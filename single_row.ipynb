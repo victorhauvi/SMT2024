{
 "cells": [
  {
   "cell_type": "markdown",
   "metadata": {},
   "source": [
    "Import Libraries"
   ]
  },
  {
   "cell_type": "code",
   "execution_count": 3,
   "metadata": {},
   "outputs": [],
   "source": [
    "import pandas as pd\n",
    "import math\n"
   ]
  },
  {
   "cell_type": "markdown",
   "metadata": {},
   "source": [
    "Import csv"
   ]
  },
  {
   "cell_type": "code",
   "execution_count": 4,
   "metadata": {},
   "outputs": [],
   "source": [
    "df = pd.read_csv('modelinput.csv')"
   ]
  },
  {
   "cell_type": "markdown",
   "metadata": {},
   "source": [
    "Helper Function to calculate distances"
   ]
  },
  {
   "cell_type": "code",
   "execution_count": 5,
   "metadata": {},
   "outputs": [],
   "source": [
    "def calculate_distance(x1, y1, x2, y2):\n",
    "\n",
    "    distance = math.sqrt((x2 - x1)**2 + (y2 - y1)**2)\n",
    "    return distance"
   ]
  },
  {
   "cell_type": "code",
   "execution_count": 14,
   "metadata": {},
   "outputs": [],
   "source": [
    "def get_angle(arm_x,arm_y, base_x, base_y):\n",
    "\n",
    "    # Translate ball position to base line / co-ordinates\n",
    "    std_ball = [arm_x - base_x, arm_y - base_y]\n",
    "\n",
    "    ang_rad = math.tan(std_ball[1]/std_ball[0])\n",
    "\n",
    "    return ang_rad * (180/math.pi)\n"
   ]
  },
  {
   "cell_type": "code",
   "execution_count": 120,
   "metadata": {},
   "outputs": [],
   "source": [
    "def pos_angle(num):\n",
    "    if abs(num) > 360:\n",
    "        full_rot = abs(num)//360\n",
    "        if num > 0: \n",
    "            num-= int(full_rot)*360\n",
    "        else:\n",
    "            num += int((full_rot))*360\n",
    "\n",
    "    if num < 0:\n",
    "        num += 360\n",
    "\n",
    "    return num\n",
    "\n",
    "\n"
   ]
  },
  {
   "cell_type": "markdown",
   "metadata": {},
   "source": [
    "Create New Data Frame and fill in rows"
   ]
  },
  {
   "cell_type": "code",
   "execution_count": 121,
   "metadata": {},
   "outputs": [],
   "source": [
    "# Initialize variables and DataFrames\n",
    "final_df = pd.DataFrame()\n",
    "new_row1 = {}\n",
    "new_row2 = {}\n",
    "new_row3 = {}\n",
    "begun = False\n",
    "play_start = False\n",
    "count = 0\n",
    "\n",
    "# Iterate through rows in df\n",
    "for index, row in df.iterrows():\n",
    "    play_id = row['play_id']\n",
    "    if row['event_code'] == 1:\n",
    "        play_start = True\n",
    "    \n",
    "    if play_start:\n",
    "        count +=1\n",
    "        if not begun:\n",
    "            if row['event_code'] == 4 and isinstance(eval(row['ball_pos']), tuple):\n",
    "\n",
    "                begun = True\n",
    "                start_time = row['timestamp']\n",
    "\n",
    "                ball_start_x = eval(row['ball_pos'])[0]\n",
    "                ball_start_y = eval(row['ball_pos'])[1]\n",
    "\n",
    "                # Get player initial positions\n",
    "                starting_places = eval(row['player_positions'])\n",
    "\n",
    "                ''' \n",
    "                Create baseline here\n",
    "                '''\n",
    "\n",
    "\n",
    "                \n",
    "        elif row['event_code'] != 4000:\n",
    "            ball_pos = eval(row['ball_pos'])\n",
    "\n",
    "            if isinstance(ball_pos, tuple) and isinstance(starting_places, list) and len(starting_places)==3:\n",
    "\n",
    "                '''\n",
    "                1.Create a line from home plate to initial player position \n",
    "                    - This will be 0 degrees\n",
    "                2. Find angle of final ball position relative to base line\n",
    "                '''\n",
    "\n",
    "                # Get ball final positions\n",
    "                ball_x, ball_y = ball_pos[0], ball_pos[1]\n",
    "\n",
    "                # Get angle offsets to make sure each fielder has standard angle meaning\n",
    "\n",
    "                offset_angle_1 = 90 - get_angle(starting_places[0][7][0], starting_places[0][7][1], ball_start_x, ball_start_y)\n",
    "                offset_angle_2 = 90 - get_angle(starting_places[1][8][0], starting_places[1][8][1], ball_start_x, ball_start_y)\n",
    "                offset_angle_3 = 90 - get_angle(starting_places[2][9][0], starting_places[2][9][1], ball_start_x, ball_start_y)\n",
    "\n",
    "\n",
    "\n",
    "                ang_rellative_1 = pos_angle(get_angle(ball_x, ball_y, starting_places[0][7][0], starting_places[0][7][1]) + offset_angle_1)\n",
    "                ang_rellative_2 = pos_angle(get_angle(ball_x, ball_y, starting_places[1][8][0], starting_places[1][8][1]) + offset_angle_2)\n",
    "                ang_rellative_3 = pos_angle(get_angle(ball_x, ball_y, starting_places[2][9][0], starting_places[2][9][1]) + offset_angle_3)\n",
    "\n",
    "                \n",
    "\n",
    "\n",
    "\n",
    "                distance_1 = calculate_distance(ball_x, ball_y, starting_places[0][7][0], starting_places[0][7][1])\n",
    "                distance_2 = calculate_distance(ball_x, ball_y, starting_places[1][8][0], starting_places[1][8][1])\n",
    "                distance_3 = calculate_distance(ball_x, ball_y, starting_places[2][9][0], starting_places[2][9][1])\n",
    "\n",
    "\n",
    "\n",
    "\n",
    "                \n",
    "                if row['event_code'] == 2:\n",
    "                    catch_positions = eval(row['catch_position'])\n",
    "\n",
    "                    new_row1 = {'distance': distance_1, 'time': row['timestamp'] - start_time, 'angle': ang_rellative_1, 'catch': catch_positions.get(7, 0)}\n",
    "                    new_row2 = {'distance': distance_2, 'time': row['timestamp'] - start_time,'angle': ang_rellative_2, 'catch': catch_positions.get(8, 0)}\n",
    "                    new_row3 = {'distance': distance_3, 'time': row['timestamp'] - start_time,'angle': ang_rellative_3, 'catch': catch_positions.get(9, 0)}\n",
    "                else:\n",
    "                    new_row1 = {'distance': distance_1, 'time': row['timestamp'] - start_time,'angle': ang_rellative_1, 'catch': 0}\n",
    "                    new_row2 = {'distance': distance_2, 'time': row['timestamp'] - start_time,'angle': ang_rellative_2, 'catch': 0}\n",
    "                    new_row3 = {'distance': distance_3, 'time': row['timestamp'] - start_time, 'angle': ang_rellative_3,'catch': 0}\n",
    "\n",
    "                # Convert dictionaries to DataFrames\n",
    "                df_new_row_1 = pd.DataFrame(new_row1, index=[0])\n",
    "                df_new_row_2 = pd.DataFrame(new_row2, index=[0])\n",
    "                df_new_row_3 = pd.DataFrame(new_row3, index=[0])\n",
    "\n",
    "                # Concatenate DataFrames to final_df\n",
    "                final_df = pd.concat([final_df, df_new_row_1, df_new_row_2, df_new_row_3], ignore_index=True)\n",
    "\n",
    "                # Reset new_row dictionaries\n",
    "                new_row1 = {}\n",
    "                new_row2 = {}\n",
    "                new_row3 = {}\n",
    "\n",
    "            begun = False\n",
    "            play_start = False"
   ]
  },
  {
   "cell_type": "markdown",
   "metadata": {},
   "source": [
    "Export as csv"
   ]
  },
  {
   "cell_type": "code",
   "execution_count": 131,
   "metadata": {},
   "outputs": [
    {
     "name": "stdout",
     "output_type": "stream",
     "text": [
      "         distance  time       angle  catch\n",
      "0      133.321061  5500  351.558070      0\n",
      "1       23.774403  5500  115.469087      1\n",
      "2      163.004893  5500  188.731762      0\n",
      "3       59.623193  5150   45.448349      1\n",
      "4      162.019367  5150  142.124675      0\n",
      "...           ...   ...         ...    ...\n",
      "10525  188.289394  6300   23.187083      0\n",
      "10526   69.157659  6300  351.024277      1\n",
      "10527  199.475985  5800   25.474118      0\n",
      "10528   50.665847  5800  132.204260      1\n",
      "10529   78.973925  5800  151.834119      0\n",
      "\n",
      "[10530 rows x 4 columns]\n"
     ]
    }
   ],
   "source": [
    "print (final_df)"
   ]
  },
  {
   "cell_type": "code",
   "execution_count": 133,
   "metadata": {},
   "outputs": [],
   "source": [
    "final_df.to_csv('modelData_1.csv', index=False)"
   ]
  },
  {
   "cell_type": "markdown",
   "metadata": {},
   "source": [
    "<strong>Notes:</strong>\n",
    "To remove angles from dataframe and save to csv for model input run the following cell"
   ]
  },
  {
   "cell_type": "code",
   "execution_count": 130,
   "metadata": {},
   "outputs": [],
   "source": [
    "#without angle\n",
    "df = final_df.drop(columns=['angle'])\n",
    "df.to_csv('modelData_1.csv', index=False)"
   ]
  }
 ],
 "metadata": {
  "kernelspec": {
   "display_name": "py310",
   "language": "python",
   "name": "python3"
  },
  "language_info": {
   "codemirror_mode": {
    "name": "ipython",
    "version": 3
   },
   "file_extension": ".py",
   "mimetype": "text/x-python",
   "name": "python",
   "nbconvert_exporter": "python",
   "pygments_lexer": "ipython3",
   "version": "3.10.14"
  }
 },
 "nbformat": 4,
 "nbformat_minor": 2
}
