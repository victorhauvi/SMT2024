{
 "cells": [
  {
   "cell_type": "markdown",
   "metadata": {},
   "source": [
    "Import Libraries"
   ]
  },
  {
   "cell_type": "code",
   "execution_count": 1,
   "metadata": {},
   "outputs": [],
   "source": [
    "import pandas as pd\n",
    "import math\n"
   ]
  },
  {
   "cell_type": "markdown",
   "metadata": {},
   "source": [
    "Import csv"
   ]
  },
  {
   "cell_type": "code",
   "execution_count": 2,
   "metadata": {},
   "outputs": [],
   "source": [
    "df = pd.read_csv('modelinput.csv')"
   ]
  },
  {
   "cell_type": "markdown",
   "metadata": {},
   "source": [
    "Helper Function to calculate distances"
   ]
  },
  {
   "cell_type": "code",
   "execution_count": 3,
   "metadata": {},
   "outputs": [],
   "source": [
    "def calculate_distance(x1, y1, x2, y2):\n",
    "\n",
    "    distance = math.sqrt((x2 - x1)**2 + (y2 - y1)**2)\n",
    "    return distance"
   ]
  },
  {
   "cell_type": "markdown",
   "metadata": {},
   "source": [
    "Create New Data Frame and fill in rows"
   ]
  },
  {
   "cell_type": "code",
   "execution_count": 32,
   "metadata": {},
   "outputs": [
    {
     "name": "stdout",
     "output_type": "stream",
     "text": [
      "[404802, 405120, 405439, 405567, 406044, 406327, 406612, 406889, 407104, 408095, 408305, 408865, 409205, 426925, 624054, 637040, 648771, 664620, 666749, 667251, 675021, 676437, 678370, 710130, 865348, 865544, 865574, 865610, 865629, 865762, 865781, 865805, 865821]\n",
      "[1, 39, 41, 44, 66, 104, 113, 167, 197, 220, 237, 242, 251, 231, 116, 132, 130, 265, 1, 49, 77, 155, 269, 201, 8, 25, 42, 82, 196, 201, 206, 268, 288]\n"
     ]
    }
   ],
   "source": [
    "# Initialize variables and DataFrames\n",
    "final_df = pd.DataFrame()\n",
    "new_row1 = {}\n",
    "new_row2 = {}\n",
    "new_row3 = {}\n",
    "begun = False\n",
    "play_start = False\n",
    "indexes = []\n",
    "ids = []\n",
    "\n",
    "# Iterate through rows in df\n",
    "for index, row in df.iterrows():\n",
    "    play_id = row['play_id']\n",
    "    if row['event_code'] == 1:\n",
    "        play_start = True\n",
    "    \n",
    "    if play_start:\n",
    "        if not begun:\n",
    "            if row['event_code'] == 4:\n",
    "                begun = True\n",
    "                start_time = row['timestamp']\n",
    "                starting_places = eval(row['player_positions'])\n",
    "                \n",
    "        elif row['event_code'] != 4000:\n",
    "            ball_pos = eval(row['ball_pos'])\n",
    "\n",
    "            if isinstance(ball_pos, tuple) and isinstance(starting_places, list) and len(starting_places)==3:\n",
    "                ball_x, ball_y = ball_pos[0], ball_pos[1]\n",
    "                # print(ball_pos)\n",
    "                # print(starting_places)\n",
    "                # print(play_id)\n",
    "                # print(row['index'])\n",
    "                distance_1 = calculate_distance(ball_x, ball_y, starting_places[0][7][0], starting_places[0][7][1])\n",
    "                distance_2 = calculate_distance(ball_x, ball_y, starting_places[1][8][0], starting_places[1][8][1])\n",
    "                distance_3 = calculate_distance(ball_x, ball_y, starting_places[2][9][0], starting_places[2][9][1])\n",
    "\n",
    "                if row['event_code'] == 2:\n",
    "                    catch_positions = eval(row['catch_position'])\n",
    "                    new_row1 = {'distance': distance_1, 'time': row['timestamp'] - start_time, 'catch': catch_positions.get(7, 0)}\n",
    "                    new_row2 = {'distance': distance_2, 'time': row['timestamp'] - start_time, 'catch': catch_positions.get(8, 0)}\n",
    "                    new_row3 = {'distance': distance_3, 'time': row['timestamp'] - start_time, 'catch': catch_positions.get(9, 0)}\n",
    "                else:\n",
    "                    new_row1 = {'distance': distance_1, 'time': row['timestamp'] - start_time, 'catch': 0}\n",
    "                    new_row2 = {'distance': distance_2, 'time': row['timestamp'] - start_time, 'catch': 0}\n",
    "                    new_row3 = {'distance': distance_3, 'time': row['timestamp'] - start_time, 'catch': 0}\n",
    "\n",
    "                # Convert dictionaries to DataFrames\n",
    "                df_new_row_1 = pd.DataFrame(new_row1, index=[0])\n",
    "                df_new_row_2 = pd.DataFrame(new_row2, index=[0])\n",
    "                df_new_row_3 = pd.DataFrame(new_row3, index=[0])\n",
    "\n",
    "                # Concatenate DataFrames to final_df\n",
    "                final_df = pd.concat([final_df, df_new_row_1, df_new_row_2, df_new_row_3], ignore_index=True)\n",
    "\n",
    "                # Reset new_row dictionaries\n",
    "                new_row1 = {}\n",
    "                new_row2 = {}\n",
    "                new_row3 = {}\n",
    "\n",
    "            begun = False\n",
    "            play_start = False"
   ]
  },
  {
   "cell_type": "markdown",
   "metadata": {},
   "source": [
    "Export as csv"
   ]
  },
  {
   "cell_type": "code",
   "execution_count": 27,
   "metadata": {},
   "outputs": [
    {
     "name": "stdout",
     "output_type": "stream",
     "text": [
      "         distance  time  catch\n",
      "0      133.321061  5500      0\n",
      "1       23.774403  5500      1\n",
      "2      163.004893  5500      0\n",
      "3       59.623193  5150      1\n",
      "4      162.019367  5150      0\n",
      "...           ...   ...    ...\n",
      "10525  188.289394  6300      0\n",
      "10526   69.157659  6300      1\n",
      "10527  199.475985  5800      0\n",
      "10528   50.665847  5800      1\n",
      "10529   78.973925  5800      0\n",
      "\n",
      "[10530 rows x 3 columns]\n"
     ]
    }
   ],
   "source": [
    "print (final_df)"
   ]
  },
  {
   "cell_type": "code",
   "execution_count": 18,
   "metadata": {},
   "outputs": [],
   "source": [
    "final_df.to_csv('modelData_1.csv', index=False)"
   ]
  }
 ],
 "metadata": {
  "kernelspec": {
   "display_name": "py310",
   "language": "python",
   "name": "python3"
  },
  "language_info": {
   "codemirror_mode": {
    "name": "ipython",
    "version": 3
   },
   "file_extension": ".py",
   "mimetype": "text/x-python",
   "name": "python",
   "nbconvert_exporter": "python",
   "pygments_lexer": "ipython3",
   "version": "3.10.14"
  }
 },
 "nbformat": 4,
 "nbformat_minor": 2
}
