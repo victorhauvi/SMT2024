{
 "cells": [
  {
   "cell_type": "markdown",
   "metadata": {},
   "source": [
    "Import Libraries"
   ]
  },
  {
   "cell_type": "code",
   "execution_count": 1,
   "metadata": {},
   "outputs": [],
   "source": [
    "import pandas as pd\n",
    "import math\n"
   ]
  },
  {
   "cell_type": "markdown",
   "metadata": {},
   "source": [
    "Import csv"
   ]
  },
  {
   "cell_type": "code",
   "execution_count": 2,
   "metadata": {},
   "outputs": [],
   "source": [
    "df = pd.read_csv('modelinput.csv')"
   ]
  },
  {
   "cell_type": "markdown",
   "metadata": {},
   "source": [
    "Helper Function to calculate distances"
   ]
  },
  {
   "cell_type": "code",
   "execution_count": 3,
   "metadata": {},
   "outputs": [],
   "source": [
    "def calculate_distance(x1, y1, x2, y2):\n",
    "\n",
    "    distance = math.sqrt((x2 - x1)**2 + (y2 - y1)**2)\n",
    "    return distance"
   ]
  },
  {
   "cell_type": "code",
   "execution_count": 4,
   "metadata": {},
   "outputs": [],
   "source": [
    "def get_angle(arm_x,arm_y, base_x, base_y):\n",
    "\n",
    "    # Translate ball position to base line / co-ordinates\n",
    "    std_ball = [arm_x - base_x, arm_y - base_y]\n",
    "\n",
    "    ang_rad = math.tan(std_ball[1]/std_ball[0])\n",
    "\n",
    "    return ang_rad * (180/math.pi)\n"
   ]
  },
  {
   "cell_type": "code",
   "execution_count": 5,
   "metadata": {},
   "outputs": [],
   "source": [
    "def pos_angle(num):\n",
    "    if abs(num) > 360:\n",
    "        full_rot = abs(num)//360\n",
    "        if num > 0: \n",
    "            num-= int(full_rot)*360\n",
    "        else:\n",
    "            num += int((full_rot))*360\n",
    "\n",
    "    if num < 0:\n",
    "        num += 360\n",
    "\n",
    "    return num\n",
    "\n",
    "\n"
   ]
  },
  {
   "cell_type": "markdown",
   "metadata": {},
   "source": [
    "Import csv for list of player ids"
   ]
  },
  {
   "cell_type": "code",
   "execution_count": 13,
   "metadata": {},
   "outputs": [
    {
     "name": "stdout",
     "output_type": "stream",
     "text": [
      "[383, 392, 431, 461, 463, 467, 535, 586, 624, 636, 652, 782, 924, 983, 991, 336, 420, 566, 675, 721, 722, 792, 939, 981, 995, 409, 667, 859, 964, 530, 634, 707, 769, 356, 948, 380, 627, 642, 760, 956, 693, 389, 427, 460, 520, 638, 659, 671, 772, 776, 811, 835, 901, 318, 933, 337, 345, 612, 868, 873, 987, 677, 879, 448, 843, 920, 404, 561, 728, 998, 502, 674, 978, 484, 947, 719, 918, 702, 861, 900, 572, 585, 394, 475, 547, 596, 645, 966, 972, 480, 839, 893, 768, 786, 720, 433, 436, 442, 565, 567, 651, 891, 975, 308, 673, 936, 620, 808, 544, 849, 334, 550, 456, 492, 549, 949, 993, 513, 973, 558, 637, 647, 798, 827, 340, 386, 923, 322, 479, 391, 471, 495, 551, 557, 576, 787, 961, 974, 344, 602, 838, 305, 437, 819, 343, 408, 639, 943, 615, 737, 886, 913, 473, 552, 367, 733, 503, 655, 714, 955, 504, 537, 753, 814, 470, 963, 593, 594, 683, 807, 856, 606, 858, 423, 435, 472, 511, 662, 418, 465, 521, 523, 598, 626, 630, 877, 892, 364, 378, 402, 906, 741, 348, 354, 953, 959, 750, 672, 564, 411, 766, 583, 579]\n",
      "203\n"
     ]
    }
   ],
   "source": [
    "player_id_df = pd.read_csv('2024_SMT_Data_Challenge/team_info.csv')\n",
    "\n",
    "player_ids = []\n",
    "\n",
    "for i in player_id_df[\"player_id\"]:\n",
    "    if i not in player_ids:\n",
    "        player_ids.append(i)\n",
    "\n",
    "# player_ids is now a list of all the player_ids in the dataset"
   ]
  },
  {
   "cell_type": "markdown",
   "metadata": {},
   "source": [
    "Create New Data Frame and fill in rows"
   ]
  },
  {
   "cell_type": "code",
   "execution_count": 121,
   "metadata": {},
   "outputs": [],
   "source": [
    "# Initialize variables and DataFrames\n",
    "final_df = pd.DataFrame()\n",
    "new_row1 = {}\n",
    "new_row2 = {}\n",
    "new_row3 = {}\n",
    "begun = False\n",
    "play_start = False\n",
    "count = 0\n",
    "\n",
    "# Iterate through rows in df\n",
    "for index, row in df.iterrows():\n",
    "    play_id = row['play_id']\n",
    "    if row['event_code'] == 1:\n",
    "        play_start = True\n",
    "    \n",
    "    if play_start:\n",
    "        count +=1\n",
    "        if not begun:\n",
    "            if row['event_code'] == 4 and isinstance(eval(row['ball_pos']), tuple):\n",
    "\n",
    "                begun = True\n",
    "                start_time = row['timestamp']\n",
    "\n",
    "                ball_start_x = eval(row['ball_pos'])[0]\n",
    "                ball_start_y = eval(row['ball_pos'])[1]\n",
    "\n",
    "                # Get player initial positions\n",
    "                starting_places = eval(row['player_positions'])\n",
    "\n",
    "                ''' \n",
    "                Create baseline here\n",
    "                '''\n",
    "\n",
    "\n",
    "                \n",
    "        elif row['event_code'] != 4000:\n",
    "            ball_pos = eval(row['ball_pos'])\n",
    "\n",
    "            if isinstance(ball_pos, tuple) and isinstance(starting_places, list) and len(starting_places)==3:\n",
    "\n",
    "                '''\n",
    "                1.Create a line from home plate to initial player position \n",
    "                    - This will be 0 degrees\n",
    "                2. Find angle of final ball position relative to base line\n",
    "                '''\n",
    "\n",
    "                # Get ball final positions\n",
    "                ball_x, ball_y = ball_pos[0], ball_pos[1]\n",
    "\n",
    "                # Get angle offsets to make sure each fielder has standard angle meaning\n",
    "\n",
    "                offset_angle_1 = 90 - get_angle(starting_places[0][7][0], starting_places[0][7][1], ball_start_x, ball_start_y)\n",
    "                offset_angle_2 = 90 - get_angle(starting_places[1][8][0], starting_places[1][8][1], ball_start_x, ball_start_y)\n",
    "                offset_angle_3 = 90 - get_angle(starting_places[2][9][0], starting_places[2][9][1], ball_start_x, ball_start_y)\n",
    "\n",
    "\n",
    "\n",
    "                ang_rellative_1 = pos_angle(get_angle(ball_x, ball_y, starting_places[0][7][0], starting_places[0][7][1]) + offset_angle_1)\n",
    "                ang_rellative_2 = pos_angle(get_angle(ball_x, ball_y, starting_places[1][8][0], starting_places[1][8][1]) + offset_angle_2)\n",
    "                ang_rellative_3 = pos_angle(get_angle(ball_x, ball_y, starting_places[2][9][0], starting_places[2][9][1]) + offset_angle_3)\n",
    "\n",
    "                \n",
    "\n",
    "\n",
    "\n",
    "                distance_1 = calculate_distance(ball_x, ball_y, starting_places[0][7][0], starting_places[0][7][1])\n",
    "                distance_2 = calculate_distance(ball_x, ball_y, starting_places[1][8][0], starting_places[1][8][1])\n",
    "                distance_3 = calculate_distance(ball_x, ball_y, starting_places[2][9][0], starting_places[2][9][1])\n",
    "\n",
    "\n",
    "\n",
    "\n",
    "                \n",
    "                if row['event_code'] == 2:\n",
    "                    catch_positions = eval(row['catch_position'])\n",
    "\n",
    "                    new_row1 = {'distance': distance_1, 'time': row['timestamp'] - start_time, 'angle': ang_rellative_1, 'catch': catch_positions.get(7, 0)}\n",
    "                    new_row2 = {'distance': distance_2, 'time': row['timestamp'] - start_time,'angle': ang_rellative_2, 'catch': catch_positions.get(8, 0)}\n",
    "                    new_row3 = {'distance': distance_3, 'time': row['timestamp'] - start_time,'angle': ang_rellative_3, 'catch': catch_positions.get(9, 0)}\n",
    "                else:\n",
    "                    new_row1 = {'distance': distance_1, 'time': row['timestamp'] - start_time,'angle': ang_rellative_1, 'catch': 0}\n",
    "                    new_row2 = {'distance': distance_2, 'time': row['timestamp'] - start_time,'angle': ang_rellative_2, 'catch': 0}\n",
    "                    new_row3 = {'distance': distance_3, 'time': row['timestamp'] - start_time, 'angle': ang_rellative_3,'catch': 0}\n",
    "\n",
    "                # Convert dictionaries to DataFrames\n",
    "                df_new_row_1 = pd.DataFrame(new_row1, index=[0])\n",
    "                df_new_row_2 = pd.DataFrame(new_row2, index=[0])\n",
    "                df_new_row_3 = pd.DataFrame(new_row3, index=[0])\n",
    "\n",
    "                # Concatenate DataFrames to final_df\n",
    "                final_df = pd.concat([final_df, df_new_row_1, df_new_row_2, df_new_row_3], ignore_index=True)\n",
    "\n",
    "                # Reset new_row dictionaries\n",
    "                new_row1 = {}\n",
    "                new_row2 = {}\n",
    "                new_row3 = {}\n",
    "\n",
    "            begun = False\n",
    "            play_start = False"
   ]
  },
  {
   "cell_type": "markdown",
   "metadata": {},
   "source": [
    "Export as csv"
   ]
  },
  {
   "cell_type": "code",
   "execution_count": 131,
   "metadata": {},
   "outputs": [
    {
     "name": "stdout",
     "output_type": "stream",
     "text": [
      "         distance  time       angle  catch\n",
      "0      133.321061  5500  351.558070      0\n",
      "1       23.774403  5500  115.469087      1\n",
      "2      163.004893  5500  188.731762      0\n",
      "3       59.623193  5150   45.448349      1\n",
      "4      162.019367  5150  142.124675      0\n",
      "...           ...   ...         ...    ...\n",
      "10525  188.289394  6300   23.187083      0\n",
      "10526   69.157659  6300  351.024277      1\n",
      "10527  199.475985  5800   25.474118      0\n",
      "10528   50.665847  5800  132.204260      1\n",
      "10529   78.973925  5800  151.834119      0\n",
      "\n",
      "[10530 rows x 4 columns]\n"
     ]
    }
   ],
   "source": [
    "print (final_df)"
   ]
  },
  {
   "cell_type": "code",
   "execution_count": 133,
   "metadata": {},
   "outputs": [],
   "source": [
    "final_df.to_csv('modelData_1.csv', index=False)"
   ]
  },
  {
   "cell_type": "markdown",
   "metadata": {},
   "source": [
    "<strong>Notes:</strong>\n",
    "To remove angles from dataframe and save to csv for model input run the following cell"
   ]
  },
  {
   "cell_type": "code",
   "execution_count": 130,
   "metadata": {},
   "outputs": [],
   "source": [
    "#without angle\n",
    "df = final_df.drop(columns=['angle'])\n",
    "df.to_csv('modelData_1.csv', index=False)"
   ]
  },
  {
   "cell_type": "code",
   "execution_count": 6,
   "metadata": {},
   "outputs": [
    {
     "name": "stdout",
     "output_type": "stream",
     "text": [
      "         index            game_str_play_id                game_str  play_id  \\\n",
      "0            0    1883_001_Vis1AB_Home1A_2  1883_001_Vis1AB_Home1A        2   \n",
      "1            1    1883_001_Vis1AB_Home1A_2  1883_001_Vis1AB_Home1A        2   \n",
      "2            2    1883_001_Vis1AB_Home1A_2  1883_001_Vis1AB_Home1A        2   \n",
      "3            3    1883_001_Vis1AB_Home1A_2  1883_001_Vis1AB_Home1A        2   \n",
      "4            4    1883_001_Vis1AB_Home1A_2  1883_001_Vis1AB_Home1A        2   \n",
      "...        ...                         ...                     ...      ...   \n",
      "748230  865828  1884_143_Vis4BE_Home4A_288  1884_143_Vis4BE_Home4A      288   \n",
      "748231  865829  1884_143_Vis4BE_Home4A_288  1884_143_Vis4BE_Home4A      288   \n",
      "748232  865830  1884_143_Vis4BE_Home4A_288  1884_143_Vis4BE_Home4A      288   \n",
      "748233  865831  1884_143_Vis4BE_Home4A_288  1884_143_Vis4BE_Home4A      288   \n",
      "748234  865832  1884_143_Vis4BE_Home4A_288  1884_143_Vis4BE_Home4A      288   \n",
      "\n",
      "        timestamp  event_code                           ball_pos  \\\n",
      "0           67373           1      (-0.956334, 55.6236, 5.09457)   \n",
      "1           67423        1000        (-0.73377, 48.891, 5.01744)   \n",
      "2           67473        1000      (-0.530736, 42.2343, 4.86402)   \n",
      "3           67523        1000      (-0.347229, 35.6541, 4.63431)   \n",
      "4           67573        1000     (-0.1832505, 29.1498, 4.32828)   \n",
      "...           ...         ...                                ...   \n",
      "748230   10088650        5000   (-0.1461255, 21.19704, 2.972616)   \n",
      "748231   10088700        5000     (-0.1120776, 15.2247, 2.22204)   \n",
      "748232   10088750        5000    (-0.0677004, 9.32463, 1.396905)   \n",
      "748233   10088800        5000    (-0.0129942, 3.49686, 0.497208)   \n",
      "748234   10088850        5000  (0.0520407, -2.258586, -0.477042)   \n",
      "\n",
      "                                         player_positions  player_position  \\\n",
      "0       [{7: (-129.6927, 257.6286)}, {8: (-5.5209, 308...                1   \n",
      "1       [{7: (-129.672, 257.6757)}, {8: (-5.5326, 308....             1000   \n",
      "2       [{7: (-129.6516, 257.7225)}, {8: (-5.5449, 308...             1000   \n",
      "3       [{7: (-129.6309, 257.7693)}, {8: (-5.5575, 308...             1000   \n",
      "4       [{7: (-129.6105, 257.8164)}, {8: (-5.5707, 308...             1000   \n",
      "...                                                   ...              ...   \n",
      "748230  [{7: (-116.9289, 261.9531)}, {8: (-15.9993, 29...                0   \n",
      "748231  [{7: (-116.8758, 261.9132)}, {8: (-16.0356, 29...                0   \n",
      "748232  [{7: (-116.823, 261.8733)}, {8: (-16.0716, 299...                0   \n",
      "748233  [{7: (-116.7702, 261.8337)}, {8: (-16.1079, 29...                0   \n",
      "748234  [{7: (-116.7174, 261.7941)}, {8: (-16.1442, 29...                0   \n",
      "\n",
      "        ball_dist_from_o                                  player_pos_from_o  \\\n",
      "0              55.864605  [{7: 288.43143374335955}, {8: 308.692973936515...   \n",
      "1              49.153260  [{7: 288.4641987396183}, {8: 308.6850847109558...   \n",
      "2              42.516779  [{7: 288.49683601178367}, {8: 308.677206717259...   \n",
      "3              35.955698  [{7: 288.52934384096875}, {8: 308.668734723716...   \n",
      "4              29.469958  [{7: 288.5622598664108}, {8: 308.6602740854255...   \n",
      "...                  ...                                                ...   \n",
      "748230         21.404960  [{7: 286.86546368432016}, {8: 300.334057572979...   \n",
      "748231         15.386407  [{7: 286.80738651554987}, {8: 300.344381541190...   \n",
      "748232          9.428926  [{7: 286.7494351901848}, {8: 300.3546937238038...   \n",
      "748233          3.532055  [{7: 286.6917614158628}, {8: 300.3647266219187...   \n",
      "748234          2.309002  [{7: 286.6340912340505}, {8: 300.3744642237918...   \n",
      "\n",
      "                                    player_ball_distances      catch_position  \n",
      "0       [{7: 239.5414011092255}, {8: 253.0631671189097...  {7: 0, 8: 0, 9: 0}  \n",
      "1       [{7: 245.39211488101347}, {8: 259.791081420768...  {7: 0, 8: 0, 9: 0}  \n",
      "2       [{7: 251.21482740058738}, {8: 266.443151938249...  {7: 0, 8: 0, 9: 0}  \n",
      "3       [{7: 257.0050153313206}, {8: 273.0182558442375...  {7: 0, 8: 0, 9: 0}  \n",
      "4       [{7: 262.76028212127807}, {8: 279.517740023622...  {7: 0, 8: 0, 9: 0}  \n",
      "...                                                   ...                 ...  \n",
      "748230  [{7: 267.6032088322651}, {8: 279.1785807112080...  {7: 0, 8: 0, 9: 0}  \n",
      "748231  [{7: 272.95424795140275}, {8: 285.162643828175...  {7: 0, 8: 0, 9: 0}  \n",
      "748232  [{7: 278.271000655896}, {8: 291.07811705629604...  {7: 0, 8: 0, 9: 0}  \n",
      "748233  [{7: 283.5516871499875}, {8: 296.925118393705}...  {7: 0, 8: 0, 9: 0}  \n",
      "748234  [{7: 288.794357193272}, {8: 302.7040508383115}...  {7: 0, 8: 0, 9: 0}  \n",
      "\n",
      "[748235 rows x 13 columns]\n"
     ]
    }
   ],
   "source": [
    "print(df)"
   ]
  }
 ],
 "metadata": {
  "kernelspec": {
   "display_name": "py310",
   "language": "python",
   "name": "python3"
  },
  "language_info": {
   "codemirror_mode": {
    "name": "ipython",
    "version": 3
   },
   "file_extension": ".py",
   "mimetype": "text/x-python",
   "name": "python",
   "nbconvert_exporter": "python",
   "pygments_lexer": "ipython3",
   "version": "3.11.4"
  }
 },
 "nbformat": 4,
 "nbformat_minor": 2
}
