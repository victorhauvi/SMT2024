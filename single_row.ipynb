{
 "cells": [
  {
   "cell_type": "markdown",
   "metadata": {},
   "source": [
    "Import Libraries"
   ]
  },
  {
   "cell_type": "code",
   "execution_count": 35,
   "metadata": {},
   "outputs": [],
   "source": [
    "import pandas as pd\n",
    "import math\n",
    "import os\n",
    "import numpy as np"
   ]
  },
  {
   "cell_type": "markdown",
   "metadata": {},
   "source": [
    "Import csv"
   ]
  },
  {
   "cell_type": "code",
   "execution_count": 39,
   "metadata": {},
   "outputs": [],
   "source": [
    "df = pd.read_csv('modelinput.csv')"
   ]
  },
  {
   "cell_type": "markdown",
   "metadata": {},
   "source": [
    "Helper Function to calculate distances"
   ]
  },
  {
   "cell_type": "code",
   "execution_count": 3,
   "metadata": {},
   "outputs": [],
   "source": [
    "def calculate_distance(x1, y1, x2, y2):\n",
    "\n",
    "    distance = math.sqrt((x2 - x1)**2 + (y2 - y1)**2)\n",
    "    return distance"
   ]
  },
  {
   "cell_type": "code",
   "execution_count": 4,
   "metadata": {},
   "outputs": [],
   "source": [
    "def get_angle(arm_x,arm_y, base_x, base_y):\n",
    "\n",
    "    # Translate ball position to base line / co-ordinates\n",
    "    std_ball = [arm_x - base_x, arm_y - base_y]\n",
    "\n",
    "    ang_rad = math.tan(std_ball[1]/std_ball[0])\n",
    "\n",
    "    return ang_rad * (180/math.pi)\n"
   ]
  },
  {
   "cell_type": "code",
   "execution_count": 5,
   "metadata": {},
   "outputs": [],
   "source": [
    "def pos_angle(num):\n",
    "    if abs(num) > 360:\n",
    "        full_rot = abs(num)//360\n",
    "        if num > 0: \n",
    "            num-= int(full_rot)*360\n",
    "        else:\n",
    "            num += int((full_rot))*360\n",
    "\n",
    "    if num < 0:\n",
    "        num += 360\n",
    "\n",
    "    return num\n",
    "\n",
    "\n"
   ]
  },
  {
   "cell_type": "markdown",
   "metadata": {},
   "source": [
    "Import csv for list of player ids"
   ]
  },
  {
   "cell_type": "code",
   "execution_count": 13,
   "metadata": {},
   "outputs": [
    {
     "name": "stdout",
     "output_type": "stream",
     "text": [
      "[383, 392, 431, 461, 463, 467, 535, 586, 624, 636, 652, 782, 924, 983, 991, 336, 420, 566, 675, 721, 722, 792, 939, 981, 995, 409, 667, 859, 964, 530, 634, 707, 769, 356, 948, 380, 627, 642, 760, 956, 693, 389, 427, 460, 520, 638, 659, 671, 772, 776, 811, 835, 901, 318, 933, 337, 345, 612, 868, 873, 987, 677, 879, 448, 843, 920, 404, 561, 728, 998, 502, 674, 978, 484, 947, 719, 918, 702, 861, 900, 572, 585, 394, 475, 547, 596, 645, 966, 972, 480, 839, 893, 768, 786, 720, 433, 436, 442, 565, 567, 651, 891, 975, 308, 673, 936, 620, 808, 544, 849, 334, 550, 456, 492, 549, 949, 993, 513, 973, 558, 637, 647, 798, 827, 340, 386, 923, 322, 479, 391, 471, 495, 551, 557, 576, 787, 961, 974, 344, 602, 838, 305, 437, 819, 343, 408, 639, 943, 615, 737, 886, 913, 473, 552, 367, 733, 503, 655, 714, 955, 504, 537, 753, 814, 470, 963, 593, 594, 683, 807, 856, 606, 858, 423, 435, 472, 511, 662, 418, 465, 521, 523, 598, 626, 630, 877, 892, 364, 378, 402, 906, 741, 348, 354, 953, 959, 750, 672, 564, 411, 766, 583, 579]\n",
      "203\n"
     ]
    }
   ],
   "source": [
    "player_id_df = pd.read_csv('2024_SMT_Data_Challenge/team_info.csv')\n",
    "\n",
    "player_ids = []\n",
    "\n",
    "for i in player_id_df[\"player_id\"]:\n",
    "    if i not in player_ids:\n",
    "        player_ids.append(i)\n",
    "\n",
    "# player_ids is now a list of all the player_ids in the dataset"
   ]
  },
  {
   "cell_type": "code",
   "execution_count": 24,
   "metadata": {},
   "outputs": [
    {
     "name": "stdout",
     "output_type": "stream",
     "text": [
      "['/Users/kvethanayagam/Documents/Code/SMT2024/2024_SMT_Data_Challenge/game_events/Season_1883/Home3A/Vis3AF/day_044/game_events.csv', '/Users/kvethanayagam/Documents/Code/SMT2024/2024_SMT_Data_Challenge/game_events/Season_1883/Home3A/Vis3AF/day_043/game_events.csv', '/Users/kvethanayagam/Documents/Code/SMT2024/2024_SMT_Data_Challenge/game_events/Season_1883/Home3A/Vis3AF/day_045/game_events.csv', '/Users/kvethanayagam/Documents/Code/SMT2024/2024_SMT_Data_Challenge/game_events/Season_1883/Home3A/Vis3AE/day_040/game_events.csv', '/Users/kvethanayagam/Documents/Code/SMT2024/2024_SMT_Data_Challenge/game_events/Season_1883/Home3A/Vis3AE/day_041/game_events.csv', '/Users/kvethanayagam/Documents/Code/SMT2024/2024_SMT_Data_Challenge/game_events/Season_1883/Home3A/Vis3AE/day_039/game_events.csv', '/Users/kvethanayagam/Documents/Code/SMT2024/2024_SMT_Data_Challenge/game_events/Season_1883/Home3A/Vis3AE/day_038/game_events.csv', '/Users/kvethanayagam/Documents/Code/SMT2024/2024_SMT_Data_Challenge/game_events/Season_1883/Home3A/Vis3AB/day_010/game_events.csv', '/Users/kvethanayagam/Documents/Code/SMT2024/2024_SMT_Data_Challenge/game_events/Season_1883/Home3A/Vis3AB/day_011/game_events.csv', '/Users/kvethanayagam/Documents/Code/SMT2024/2024_SMT_Data_Challenge/game_events/Season_1883/Home3A/Vis3AB/day_013/game_events.csv', '/Users/kvethanayagam/Documents/Code/SMT2024/2024_SMT_Data_Challenge/game_events/Season_1883/Home3A/Vis3AB/day_012/game_events.csv', '/Users/kvethanayagam/Documents/Code/SMT2024/2024_SMT_Data_Challenge/game_events/Season_1883/Home3A/Vis3AC/day_017/game_events.csv', '/Users/kvethanayagam/Documents/Code/SMT2024/2024_SMT_Data_Challenge/game_events/Season_1883/Home3A/Vis3AC/day_018/game_events.csv', '/Users/kvethanayagam/Documents/Code/SMT2024/2024_SMT_Data_Challenge/game_events/Season_1883/Home3A/Vis3AC/day_016/game_events.csv', '/Users/kvethanayagam/Documents/Code/SMT2024/2024_SMT_Data_Challenge/game_events/Season_1883/Home3A/Vis3AD/day_028.5/game_events.csv', '/Users/kvethanayagam/Documents/Code/SMT2024/2024_SMT_Data_Challenge/game_events/Season_1883/Home3A/Vis3AD/day_028/game_events.csv', '/Users/kvethanayagam/Documents/Code/SMT2024/2024_SMT_Data_Challenge/game_events/Season_1883/Home3A/Vis3AD/day_029/game_events.csv', '/Users/kvethanayagam/Documents/Code/SMT2024/2024_SMT_Data_Challenge/game_events/Season_1883/Home3A/Vis3AD/day_030/game_events.csv', '/Users/kvethanayagam/Documents/Code/SMT2024/2024_SMT_Data_Challenge/game_events/Season_1883/Home4A/Vis4AI/day_040/game_events.csv', '/Users/kvethanayagam/Documents/Code/SMT2024/2024_SMT_Data_Challenge/game_events/Season_1883/Home4A/Vis4AI/day_041/game_events.csv', '/Users/kvethanayagam/Documents/Code/SMT2024/2024_SMT_Data_Challenge/game_events/Season_1883/Home4A/Vis4AI/day_039/game_events.csv', '/Users/kvethanayagam/Documents/Code/SMT2024/2024_SMT_Data_Challenge/game_events/Season_1883/Home4A/Vis4AI/day_038/game_events.csv', '/Users/kvethanayagam/Documents/Code/SMT2024/2024_SMT_Data_Challenge/game_events/Season_1883/Home4A/Vis4AG/day_026/game_events.csv', '/Users/kvethanayagam/Documents/Code/SMT2024/2024_SMT_Data_Challenge/game_events/Season_1883/Home4A/Vis4AG/day_025/game_events.csv', '/Users/kvethanayagam/Documents/Code/SMT2024/2024_SMT_Data_Challenge/game_events/Season_1883/Home4A/Vis4AG/day_024/game_events.csv', '/Users/kvethanayagam/Documents/Code/SMT2024/2024_SMT_Data_Challenge/game_events/Season_1883/Home4A/Vis4AF/day_017/game_events.csv', '/Users/kvethanayagam/Documents/Code/SMT2024/2024_SMT_Data_Challenge/game_events/Season_1883/Home4A/Vis4AF/day_019/game_events.csv', '/Users/kvethanayagam/Documents/Code/SMT2024/2024_SMT_Data_Challenge/game_events/Season_1883/Home4A/Vis4AF/day_018/game_events.csv', '/Users/kvethanayagam/Documents/Code/SMT2024/2024_SMT_Data_Challenge/game_events/Season_1883/Home4A/Vis4AH/day_028/game_events.csv', '/Users/kvethanayagam/Documents/Code/SMT2024/2024_SMT_Data_Challenge/game_events/Season_1883/Home4A/Vis4AH/day_027/game_events.csv', '/Users/kvethanayagam/Documents/Code/SMT2024/2024_SMT_Data_Challenge/game_events/Season_1883/Home4A/Vis4AH/day_029/game_events.csv', '/Users/kvethanayagam/Documents/Code/SMT2024/2024_SMT_Data_Challenge/game_events/Season_1883/Home4A/Vis4AH/day_030/game_events.csv', '/Users/kvethanayagam/Documents/Code/SMT2024/2024_SMT_Data_Challenge/game_events/Season_1883/Home4A/Vis4AJ/day_044/game_events.csv', '/Users/kvethanayagam/Documents/Code/SMT2024/2024_SMT_Data_Challenge/game_events/Season_1883/Home4A/Vis4AJ/day_043/game_events.csv', '/Users/kvethanayagam/Documents/Code/SMT2024/2024_SMT_Data_Challenge/game_events/Season_1883/Home4A/Vis4AJ/day_042/game_events.csv', '/Users/kvethanayagam/Documents/Code/SMT2024/2024_SMT_Data_Challenge/game_events/Season_1883/Home4A/Vis4AC/day_005/game_events.csv', '/Users/kvethanayagam/Documents/Code/SMT2024/2024_SMT_Data_Challenge/game_events/Season_1883/Home4A/Vis4AC/day_004/game_events.csv', '/Users/kvethanayagam/Documents/Code/SMT2024/2024_SMT_Data_Challenge/game_events/Season_1883/Home4A/Vis4AC/day_006/game_events.csv', '/Users/kvethanayagam/Documents/Code/SMT2024/2024_SMT_Data_Challenge/game_events/Season_1883/Home4A/Vis4AD/day_010/game_events.csv', '/Users/kvethanayagam/Documents/Code/SMT2024/2024_SMT_Data_Challenge/game_events/Season_1883/Home4A/Vis4AD/day_008/game_events.csv', '/Users/kvethanayagam/Documents/Code/SMT2024/2024_SMT_Data_Challenge/game_events/Season_1883/Home4A/Vis4AD/day_009/game_events.csv', '/Users/kvethanayagam/Documents/Code/SMT2024/2024_SMT_Data_Challenge/game_events/Season_1883/Home4A/Vis4AE/day_011/game_events.csv', '/Users/kvethanayagam/Documents/Code/SMT2024/2024_SMT_Data_Challenge/game_events/Season_1883/Home4A/Vis4AE/day_013/game_events.csv', '/Users/kvethanayagam/Documents/Code/SMT2024/2024_SMT_Data_Challenge/game_events/Season_1883/Home4A/Vis4AE/day_014/game_events.csv', '/Users/kvethanayagam/Documents/Code/SMT2024/2024_SMT_Data_Challenge/game_events/Season_1883/Home4A/Vis4AE/day_012/game_events.csv', '/Users/kvethanayagam/Documents/Code/SMT2024/2024_SMT_Data_Challenge/game_events/Season_1883/Home4A/Vis4AB/day_002/game_events.csv', '/Users/kvethanayagam/Documents/Code/SMT2024/2024_SMT_Data_Challenge/game_events/Season_1883/Home4A/Vis4AB/day_003/game_events.csv', '/Users/kvethanayagam/Documents/Code/SMT2024/2024_SMT_Data_Challenge/game_events/Season_1883/Home4A/Vis4AB/day_001/game_events.csv', '/Users/kvethanayagam/Documents/Code/SMT2024/2024_SMT_Data_Challenge/game_events/Season_1883/Home1A/Vis1AB/day_002/game_events.csv', '/Users/kvethanayagam/Documents/Code/SMT2024/2024_SMT_Data_Challenge/game_events/Season_1883/Home1A/Vis1AB/day_003/game_events.csv', '/Users/kvethanayagam/Documents/Code/SMT2024/2024_SMT_Data_Challenge/game_events/Season_1883/Home1A/Vis1AB/day_001/game_events.csv', '/Users/kvethanayagam/Documents/Code/SMT2024/2024_SMT_Data_Challenge/game_events/Season_1883/Home1A/Vis1AE/day_013/game_events.csv', '/Users/kvethanayagam/Documents/Code/SMT2024/2024_SMT_Data_Challenge/game_events/Season_1883/Home1A/Vis1AE/day_014/game_events.csv', '/Users/kvethanayagam/Documents/Code/SMT2024/2024_SMT_Data_Challenge/game_events/Season_1883/Home1A/Vis1AE/day_015/game_events.csv', '/Users/kvethanayagam/Documents/Code/SMT2024/2024_SMT_Data_Challenge/game_events/Season_1883/Home1A/Vis1AJ/day_050/game_events.csv', '/Users/kvethanayagam/Documents/Code/SMT2024/2024_SMT_Data_Challenge/game_events/Season_1883/Home1A/Vis1AJ/day_049/game_events.csv', '/Users/kvethanayagam/Documents/Code/SMT2024/2024_SMT_Data_Challenge/game_events/Season_1883/Home1A/Vis1AJ/day_048/game_events.csv', '/Users/kvethanayagam/Documents/Code/SMT2024/2024_SMT_Data_Challenge/game_events/Season_1883/Home1A/Vis1AD/day_010/game_events.csv', '/Users/kvethanayagam/Documents/Code/SMT2024/2024_SMT_Data_Challenge/game_events/Season_1883/Home1A/Vis1AD/day_011/game_events.csv', '/Users/kvethanayagam/Documents/Code/SMT2024/2024_SMT_Data_Challenge/game_events/Season_1883/Home1A/Vis1AD/day_012/game_events.csv', '/Users/kvethanayagam/Documents/Code/SMT2024/2024_SMT_Data_Challenge/game_events/Season_1883/Home1A/Vis1AC/day_005/game_events.csv', '/Users/kvethanayagam/Documents/Code/SMT2024/2024_SMT_Data_Challenge/game_events/Season_1883/Home1A/Vis1AC/day_004/game_events.csv', '/Users/kvethanayagam/Documents/Code/SMT2024/2024_SMT_Data_Challenge/game_events/Season_1883/Home1A/Vis1AC/day_006/game_events.csv', '/Users/kvethanayagam/Documents/Code/SMT2024/2024_SMT_Data_Challenge/game_events/Season_1883/Home1A/Vis1AC/day_007/game_events.csv', '/Users/kvethanayagam/Documents/Code/SMT2024/2024_SMT_Data_Challenge/game_events/Season_1883/Home1A/Vis1AF/day_019/game_events.csv', '/Users/kvethanayagam/Documents/Code/SMT2024/2024_SMT_Data_Challenge/game_events/Season_1883/Home1A/Vis1AF/day_020/game_events.csv', '/Users/kvethanayagam/Documents/Code/SMT2024/2024_SMT_Data_Challenge/game_events/Season_1883/Home1A/Vis1AF/day_018/game_events.csv', '/Users/kvethanayagam/Documents/Code/SMT2024/2024_SMT_Data_Challenge/game_events/Season_1883/Home1A/Vis1AH/day_034/game_events.csv', '/Users/kvethanayagam/Documents/Code/SMT2024/2024_SMT_Data_Challenge/game_events/Season_1883/Home1A/Vis1AH/day_033/game_events.csv', '/Users/kvethanayagam/Documents/Code/SMT2024/2024_SMT_Data_Challenge/game_events/Season_1883/Home1A/Vis1AH/day_032/game_events.csv', '/Users/kvethanayagam/Documents/Code/SMT2024/2024_SMT_Data_Challenge/game_events/Season_1883/Home1A/Vis1AH/day_031/game_events.csv', '/Users/kvethanayagam/Documents/Code/SMT2024/2024_SMT_Data_Challenge/game_events/Season_1883/Home1A/Vis1AI/day_035/game_events.csv', '/Users/kvethanayagam/Documents/Code/SMT2024/2024_SMT_Data_Challenge/game_events/Season_1883/Home1A/Vis1AI/day_037/game_events.csv', '/Users/kvethanayagam/Documents/Code/SMT2024/2024_SMT_Data_Challenge/game_events/Season_1883/Home1A/Vis1AI/day_038/game_events.csv', '/Users/kvethanayagam/Documents/Code/SMT2024/2024_SMT_Data_Challenge/game_events/Season_1883/Home1A/Vis1AI/day_036/game_events.csv', '/Users/kvethanayagam/Documents/Code/SMT2024/2024_SMT_Data_Challenge/game_events/Season_1883/Home1A/Vis1AG/day_021/game_events.csv', '/Users/kvethanayagam/Documents/Code/SMT2024/2024_SMT_Data_Challenge/game_events/Season_1883/Home1A/Vis1AG/day_025/game_events.csv', '/Users/kvethanayagam/Documents/Code/SMT2024/2024_SMT_Data_Challenge/game_events/Season_1883/Home1A/Vis1AG/day_024/game_events.csv', '/Users/kvethanayagam/Documents/Code/SMT2024/2024_SMT_Data_Challenge/game_events/Season_1883/Home1A/Vis1AG/day_023/game_events.csv', '/Users/kvethanayagam/Documents/Code/SMT2024/2024_SMT_Data_Challenge/game_events/Season_1883/Home2A/Vis2AB/day_026/game_events.csv', '/Users/kvethanayagam/Documents/Code/SMT2024/2024_SMT_Data_Challenge/game_events/Season_1883/Home2A/Vis2AB/day_025/game_events.csv', '/Users/kvethanayagam/Documents/Code/SMT2024/2024_SMT_Data_Challenge/game_events/Season_1883/Home2A/Vis2AB/day_024/game_events.csv', '/Users/kvethanayagam/Documents/Code/SMT2024/2024_SMT_Data_Challenge/game_events/Season_1883/Home2A/Vis2AE/day_047.5/game_events.csv', '/Users/kvethanayagam/Documents/Code/SMT2024/2024_SMT_Data_Challenge/game_events/Season_1883/Home2A/Vis2AE/day_047/game_events.csv', '/Users/kvethanayagam/Documents/Code/SMT2024/2024_SMT_Data_Challenge/game_events/Season_1883/Home2A/Vis2AE/day_046/game_events.csv', '/Users/kvethanayagam/Documents/Code/SMT2024/2024_SMT_Data_Challenge/game_events/Season_1883/Home2A/Vis2AD/day_041.5/game_events.csv', '/Users/kvethanayagam/Documents/Code/SMT2024/2024_SMT_Data_Challenge/game_events/Season_1883/Home2A/Vis2AD/day_041/game_events.csv', '/Users/kvethanayagam/Documents/Code/SMT2024/2024_SMT_Data_Challenge/game_events/Season_1883/Home2A/Vis2AD/day_039/game_events.csv', '/Users/kvethanayagam/Documents/Code/SMT2024/2024_SMT_Data_Challenge/game_events/Season_1883/Home2A/Vis2AC/day_035/game_events.csv', '/Users/kvethanayagam/Documents/Code/SMT2024/2024_SMT_Data_Challenge/game_events/Season_1883/Home2A/Vis2AC/day_037/game_events.csv', '/Users/kvethanayagam/Documents/Code/SMT2024/2024_SMT_Data_Challenge/game_events/Season_1883/Home2A/Vis2AC/day_036/game_events.csv', '/Users/kvethanayagam/Documents/Code/SMT2024/2024_SMT_Data_Challenge/game_events/Season_1884/Home3A/Vis3AO/day_078/game_events.csv', '/Users/kvethanayagam/Documents/Code/SMT2024/2024_SMT_Data_Challenge/game_events/Season_1884/Home3A/Vis3AO/day_079/game_events.csv', '/Users/kvethanayagam/Documents/Code/SMT2024/2024_SMT_Data_Challenge/game_events/Season_1884/Home3A/Vis3AO/day_077/game_events.csv', '/Users/kvethanayagam/Documents/Code/SMT2024/2024_SMT_Data_Challenge/game_events/Season_1884/Home3A/Vis3AH/day_010/game_events.csv', '/Users/kvethanayagam/Documents/Code/SMT2024/2024_SMT_Data_Challenge/game_events/Season_1884/Home3A/Vis3AH/day_011/game_events.csv', '/Users/kvethanayagam/Documents/Code/SMT2024/2024_SMT_Data_Challenge/game_events/Season_1884/Home3A/Vis3AH/day_012/game_events.csv', '/Users/kvethanayagam/Documents/Code/SMT2024/2024_SMT_Data_Challenge/game_events/Season_1884/Home3A/Vis3AT/day_125/game_events.csv', '/Users/kvethanayagam/Documents/Code/SMT2024/2024_SMT_Data_Challenge/game_events/Season_1884/Home3A/Vis3AT/day_123/game_events.csv', '/Users/kvethanayagam/Documents/Code/SMT2024/2024_SMT_Data_Challenge/game_events/Season_1884/Home3A/Vis3AT/day_124/game_events.csv', '/Users/kvethanayagam/Documents/Code/SMT2024/2024_SMT_Data_Challenge/game_events/Season_1884/Home3A/Vis3AT/day_126/game_events.csv', '/Users/kvethanayagam/Documents/Code/SMT2024/2024_SMT_Data_Challenge/game_events/Season_1884/Home3A/Vis3AS/day_119/game_events.csv', '/Users/kvethanayagam/Documents/Code/SMT2024/2024_SMT_Data_Challenge/game_events/Season_1884/Home3A/Vis3AS/day_117/game_events.csv', '/Users/kvethanayagam/Documents/Code/SMT2024/2024_SMT_Data_Challenge/game_events/Season_1884/Home3A/Vis3AS/day_116/game_events.csv', '/Users/kvethanayagam/Documents/Code/SMT2024/2024_SMT_Data_Challenge/game_events/Season_1884/Home3A/Vis3AS/day_118/game_events.csv', '/Users/kvethanayagam/Documents/Code/SMT2024/2024_SMT_Data_Challenge/game_events/Season_1884/Home3A/Vis3AG/day_002/game_events.csv', '/Users/kvethanayagam/Documents/Code/SMT2024/2024_SMT_Data_Challenge/game_events/Season_1884/Home3A/Vis3AG/day_003/game_events.csv', '/Users/kvethanayagam/Documents/Code/SMT2024/2024_SMT_Data_Challenge/game_events/Season_1884/Home3A/Vis3AG/day_004/game_events.csv', '/Users/kvethanayagam/Documents/Code/SMT2024/2024_SMT_Data_Challenge/game_events/Season_1884/Home3A/Vis3AG/day_001/game_events.csv', '/Users/kvethanayagam/Documents/Code/SMT2024/2024_SMT_Data_Challenge/game_events/Season_1884/Home3A/Vis3AI/day_019/game_events.csv', '/Users/kvethanayagam/Documents/Code/SMT2024/2024_SMT_Data_Challenge/game_events/Season_1884/Home3A/Vis3AI/day_021/game_events.csv', '/Users/kvethanayagam/Documents/Code/SMT2024/2024_SMT_Data_Challenge/game_events/Season_1884/Home3A/Vis3AI/day_022/game_events.csv', '/Users/kvethanayagam/Documents/Code/SMT2024/2024_SMT_Data_Challenge/game_events/Season_1884/Home3A/Vis3AI/day_023/game_events.csv', '/Users/kvethanayagam/Documents/Code/SMT2024/2024_SMT_Data_Challenge/game_events/Season_1884/Home3A/Vis3AN/day_075/game_events.csv', '/Users/kvethanayagam/Documents/Code/SMT2024/2024_SMT_Data_Challenge/game_events/Season_1884/Home3A/Vis3AN/day_074/game_events.csv', '/Users/kvethanayagam/Documents/Code/SMT2024/2024_SMT_Data_Challenge/game_events/Season_1884/Home3A/Vis3AN/day_076/game_events.csv', '/Users/kvethanayagam/Documents/Code/SMT2024/2024_SMT_Data_Challenge/game_events/Season_1884/Home3A/Vis3AR/day_108/game_events.csv', '/Users/kvethanayagam/Documents/Code/SMT2024/2024_SMT_Data_Challenge/game_events/Season_1884/Home3A/Vis3AR/day_109/game_events.csv', '/Users/kvethanayagam/Documents/Code/SMT2024/2024_SMT_Data_Challenge/game_events/Season_1884/Home3A/Vis3AR/day_107/game_events.csv', '/Users/kvethanayagam/Documents/Code/SMT2024/2024_SMT_Data_Challenge/game_events/Season_1884/Home3A/Vis3AU/day_130/game_events.csv', '/Users/kvethanayagam/Documents/Code/SMT2024/2024_SMT_Data_Challenge/game_events/Season_1884/Home3A/Vis3AU/day_128/game_events.csv', '/Users/kvethanayagam/Documents/Code/SMT2024/2024_SMT_Data_Challenge/game_events/Season_1884/Home3A/Vis3AU/day_129/game_events.csv', '/Users/kvethanayagam/Documents/Code/SMT2024/2024_SMT_Data_Challenge/game_events/Season_1884/Home3A/Vis3AP/day_086/game_events.csv', '/Users/kvethanayagam/Documents/Code/SMT2024/2024_SMT_Data_Challenge/game_events/Season_1884/Home3A/Vis3AP/day_087/game_events.csv', '/Users/kvethanayagam/Documents/Code/SMT2024/2024_SMT_Data_Challenge/game_events/Season_1884/Home3A/Vis3AP/day_085/game_events.csv', '/Users/kvethanayagam/Documents/Code/SMT2024/2024_SMT_Data_Challenge/game_events/Season_1884/Home3A/Vis3AP/day_084/game_events.csv', '/Users/kvethanayagam/Documents/Code/SMT2024/2024_SMT_Data_Challenge/game_events/Season_1884/Home3A/Vis3AK/day_037/game_events.csv', '/Users/kvethanayagam/Documents/Code/SMT2024/2024_SMT_Data_Challenge/game_events/Season_1884/Home3A/Vis3AK/day_038/game_events.csv', '/Users/kvethanayagam/Documents/Code/SMT2024/2024_SMT_Data_Challenge/game_events/Season_1884/Home3A/Vis3AK/day_036/game_events.csv', '/Users/kvethanayagam/Documents/Code/SMT2024/2024_SMT_Data_Challenge/game_events/Season_1884/Home3A/Vis3AL/day_051/game_events.csv', '/Users/kvethanayagam/Documents/Code/SMT2024/2024_SMT_Data_Challenge/game_events/Season_1884/Home3A/Vis3AL/day_052/game_events.csv', '/Users/kvethanayagam/Documents/Code/SMT2024/2024_SMT_Data_Challenge/game_events/Season_1884/Home3A/Vis3AL/day_054/game_events.csv', '/Users/kvethanayagam/Documents/Code/SMT2024/2024_SMT_Data_Challenge/game_events/Season_1884/Home3A/Vis3AL/day_053/game_events.csv', '/Users/kvethanayagam/Documents/Code/SMT2024/2024_SMT_Data_Challenge/game_events/Season_1884/Home3A/Vis3AV/day_139/game_events.csv', '/Users/kvethanayagam/Documents/Code/SMT2024/2024_SMT_Data_Challenge/game_events/Season_1884/Home3A/Vis3AV/day_138/game_events.csv', '/Users/kvethanayagam/Documents/Code/SMT2024/2024_SMT_Data_Challenge/game_events/Season_1884/Home3A/Vis3AV/day_140/game_events.csv', '/Users/kvethanayagam/Documents/Code/SMT2024/2024_SMT_Data_Challenge/game_events/Season_1884/Home3A/Vis3AQ/day_101/game_events.csv', '/Users/kvethanayagam/Documents/Code/SMT2024/2024_SMT_Data_Challenge/game_events/Season_1884/Home3A/Vis3AQ/day_100/game_events.csv', '/Users/kvethanayagam/Documents/Code/SMT2024/2024_SMT_Data_Challenge/game_events/Season_1884/Home3A/Vis3AQ/day_099/game_events.csv', '/Users/kvethanayagam/Documents/Code/SMT2024/2024_SMT_Data_Challenge/game_events/Season_1884/Home3A/Vis3AQ/day_098/game_events.csv', '/Users/kvethanayagam/Documents/Code/SMT2024/2024_SMT_Data_Challenge/game_events/Season_1884/Home3A/Vis3AM/day_061/game_events.csv', '/Users/kvethanayagam/Documents/Code/SMT2024/2024_SMT_Data_Challenge/game_events/Season_1884/Home3A/Vis3AM/day_063/game_events.csv', '/Users/kvethanayagam/Documents/Code/SMT2024/2024_SMT_Data_Challenge/game_events/Season_1884/Home3A/Vis3AM/day_064/game_events.csv', '/Users/kvethanayagam/Documents/Code/SMT2024/2024_SMT_Data_Challenge/game_events/Season_1884/Home3A/Vis3AM/day_062/game_events.csv', '/Users/kvethanayagam/Documents/Code/SMT2024/2024_SMT_Data_Challenge/game_events/Season_1884/Home3A/Vis3AJ/day_033/game_events.csv', '/Users/kvethanayagam/Documents/Code/SMT2024/2024_SMT_Data_Challenge/game_events/Season_1884/Home3A/Vis3AJ/day_032/game_events.csv', '/Users/kvethanayagam/Documents/Code/SMT2024/2024_SMT_Data_Challenge/game_events/Season_1884/Home3A/Vis3AJ/day_030/game_events.csv', '/Users/kvethanayagam/Documents/Code/SMT2024/2024_SMT_Data_Challenge/game_events/Season_1884/Home3A/Vis3AJ/day_031/game_events.csv', '/Users/kvethanayagam/Documents/Code/SMT2024/2024_SMT_Data_Challenge/game_events/Season_1884/Home4A/Vis4BA/day_115/game_events.csv', '/Users/kvethanayagam/Documents/Code/SMT2024/2024_SMT_Data_Challenge/game_events/Season_1884/Home4A/Vis4BA/day_117/game_events.csv', '/Users/kvethanayagam/Documents/Code/SMT2024/2024_SMT_Data_Challenge/game_events/Season_1884/Home4A/Vis4BA/day_116/game_events.csv', '/Users/kvethanayagam/Documents/Code/SMT2024/2024_SMT_Data_Challenge/game_events/Season_1884/Home4A/Vis4AN/day_017/game_events.csv', '/Users/kvethanayagam/Documents/Code/SMT2024/2024_SMT_Data_Challenge/game_events/Season_1884/Home4A/Vis4AN/day_018/game_events.csv', '/Users/kvethanayagam/Documents/Code/SMT2024/2024_SMT_Data_Challenge/game_events/Season_1884/Home4A/Vis4AN/day_016/game_events.csv', '/Users/kvethanayagam/Documents/Code/SMT2024/2024_SMT_Data_Challenge/game_events/Season_1884/Home4A/Vis4AR/day_043/game_events.csv', '/Users/kvethanayagam/Documents/Code/SMT2024/2024_SMT_Data_Challenge/game_events/Season_1884/Home4A/Vis4AR/day_042/game_events.csv', '/Users/kvethanayagam/Documents/Code/SMT2024/2024_SMT_Data_Challenge/game_events/Season_1884/Home4A/Vis4AR/day_041/game_events.csv', '/Users/kvethanayagam/Documents/Code/SMT2024/2024_SMT_Data_Challenge/game_events/Season_1884/Home4A/Vis4AU/day_069/game_events.csv', '/Users/kvethanayagam/Documents/Code/SMT2024/2024_SMT_Data_Challenge/game_events/Season_1884/Home4A/Vis4AU/day_067/game_events.csv', '/Users/kvethanayagam/Documents/Code/SMT2024/2024_SMT_Data_Challenge/game_events/Season_1884/Home4A/Vis4AU/day_068/game_events.csv', '/Users/kvethanayagam/Documents/Code/SMT2024/2024_SMT_Data_Challenge/game_events/Season_1884/Home4A/Vis4AU/day_070/game_events.csv', '/Users/kvethanayagam/Documents/Code/SMT2024/2024_SMT_Data_Challenge/game_events/Season_1884/Home4A/Vis4AO/day_028/game_events.csv', '/Users/kvethanayagam/Documents/Code/SMT2024/2024_SMT_Data_Challenge/game_events/Season_1884/Home4A/Vis4AO/day_026/game_events.csv', '/Users/kvethanayagam/Documents/Code/SMT2024/2024_SMT_Data_Challenge/game_events/Season_1884/Home4A/Vis4AO/day_027/game_events.csv', '/Users/kvethanayagam/Documents/Code/SMT2024/2024_SMT_Data_Challenge/game_events/Season_1884/Home4A/Vis4AO/day_029/game_events.csv', '/Users/kvethanayagam/Documents/Code/SMT2024/2024_SMT_Data_Challenge/game_events/Season_1884/Home4A/Vis4AZ/day_106/game_events.csv', '/Users/kvethanayagam/Documents/Code/SMT2024/2024_SMT_Data_Challenge/game_events/Season_1884/Home4A/Vis4AZ/day_107/game_events.csv', '/Users/kvethanayagam/Documents/Code/SMT2024/2024_SMT_Data_Challenge/game_events/Season_1884/Home4A/Vis4AZ/day_105/game_events.csv', '/Users/kvethanayagam/Documents/Code/SMT2024/2024_SMT_Data_Challenge/game_events/Season_1884/Home4A/Vis4AT/day_056/game_events.csv', '/Users/kvethanayagam/Documents/Code/SMT2024/2024_SMT_Data_Challenge/game_events/Season_1884/Home4A/Vis4AT/day_055/game_events.csv', '/Users/kvethanayagam/Documents/Code/SMT2024/2024_SMT_Data_Challenge/game_events/Season_1884/Home4A/Vis4AT/day_054/game_events.csv', '/Users/kvethanayagam/Documents/Code/SMT2024/2024_SMT_Data_Challenge/game_events/Season_1884/Home4A/Vis4AS/day_051/game_events.csv', '/Users/kvethanayagam/Documents/Code/SMT2024/2024_SMT_Data_Challenge/game_events/Season_1884/Home4A/Vis4AS/day_052/game_events.csv', '/Users/kvethanayagam/Documents/Code/SMT2024/2024_SMT_Data_Challenge/game_events/Season_1884/Home4A/Vis4AS/day_053/game_events.csv', '/Users/kvethanayagam/Documents/Code/SMT2024/2024_SMT_Data_Challenge/game_events/Season_1884/Home4A/Vis4AV/day_080/game_events.csv', '/Users/kvethanayagam/Documents/Code/SMT2024/2024_SMT_Data_Challenge/game_events/Season_1884/Home4A/Vis4AV/day_078/game_events.csv', '/Users/kvethanayagam/Documents/Code/SMT2024/2024_SMT_Data_Challenge/game_events/Season_1884/Home4A/Vis4AV/day_079/game_events.csv', '/Users/kvethanayagam/Documents/Code/SMT2024/2024_SMT_Data_Challenge/game_events/Season_1884/Home4A/Vis4AV/day_080.5/game_events.csv', '/Users/kvethanayagam/Documents/Code/SMT2024/2024_SMT_Data_Challenge/game_events/Season_1884/Home4A/Vis4AQ/day_040/game_events.csv', '/Users/kvethanayagam/Documents/Code/SMT2024/2024_SMT_Data_Challenge/game_events/Season_1884/Home4A/Vis4AQ/day_039/game_events.csv', '/Users/kvethanayagam/Documents/Code/SMT2024/2024_SMT_Data_Challenge/game_events/Season_1884/Home4A/Vis4AQ/day_038/game_events.csv', '/Users/kvethanayagam/Documents/Code/SMT2024/2024_SMT_Data_Challenge/game_events/Season_1884/Home4A/Vis4AX/day_093/game_events.csv', '/Users/kvethanayagam/Documents/Code/SMT2024/2024_SMT_Data_Challenge/game_events/Season_1884/Home4A/Vis4AX/day_094/game_events.csv', '/Users/kvethanayagam/Documents/Code/SMT2024/2024_SMT_Data_Challenge/game_events/Season_1884/Home4A/Vis4AX/day_095/game_events.csv', '/Users/kvethanayagam/Documents/Code/SMT2024/2024_SMT_Data_Challenge/game_events/Season_1884/Home4A/Vis4AX/day_092/game_events.csv', '/Users/kvethanayagam/Documents/Code/SMT2024/2024_SMT_Data_Challenge/game_events/Season_1884/Home4A/Vis4BB/day_119/game_events.csv', '/Users/kvethanayagam/Documents/Code/SMT2024/2024_SMT_Data_Challenge/game_events/Season_1884/Home4A/Vis4BB/day_118/game_events.csv', '/Users/kvethanayagam/Documents/Code/SMT2024/2024_SMT_Data_Challenge/game_events/Season_1884/Home4A/Vis4BB/day_120/game_events.csv', '/Users/kvethanayagam/Documents/Code/SMT2024/2024_SMT_Data_Challenge/game_events/Season_1884/Home4A/Vis4AM/day_013/game_events.csv', '/Users/kvethanayagam/Documents/Code/SMT2024/2024_SMT_Data_Challenge/game_events/Season_1884/Home4A/Vis4AM/day_014/game_events.csv', '/Users/kvethanayagam/Documents/Code/SMT2024/2024_SMT_Data_Challenge/game_events/Season_1884/Home4A/Vis4AM/day_015/game_events.csv', '/Users/kvethanayagam/Documents/Code/SMT2024/2024_SMT_Data_Challenge/game_events/Season_1884/Home4A/Vis4BE/day_141/game_events.csv', '/Users/kvethanayagam/Documents/Code/SMT2024/2024_SMT_Data_Challenge/game_events/Season_1884/Home4A/Vis4BE/day_143/game_events.csv', '/Users/kvethanayagam/Documents/Code/SMT2024/2024_SMT_Data_Challenge/game_events/Season_1884/Home4A/Vis4BE/day_142/game_events.csv', '/Users/kvethanayagam/Documents/Code/SMT2024/2024_SMT_Data_Challenge/game_events/Season_1884/Home4A/Vis4AY/day_102/game_events.csv', '/Users/kvethanayagam/Documents/Code/SMT2024/2024_SMT_Data_Challenge/game_events/Season_1884/Home4A/Vis4AY/day_104/game_events.csv', '/Users/kvethanayagam/Documents/Code/SMT2024/2024_SMT_Data_Challenge/game_events/Season_1884/Home4A/Vis4AY/day_103/game_events.csv', '/Users/kvethanayagam/Documents/Code/SMT2024/2024_SMT_Data_Challenge/game_events/Season_1884/Home4A/Vis4AP/day_033/game_events.csv', '/Users/kvethanayagam/Documents/Code/SMT2024/2024_SMT_Data_Challenge/game_events/Season_1884/Home4A/Vis4AP/day_030/game_events.csv', '/Users/kvethanayagam/Documents/Code/SMT2024/2024_SMT_Data_Challenge/game_events/Season_1884/Home4A/Vis4AP/day_031/game_events.csv', '/Users/kvethanayagam/Documents/Code/SMT2024/2024_SMT_Data_Challenge/game_events/Season_1884/Home4A/Vis4AW/day_086/game_events.csv', '/Users/kvethanayagam/Documents/Code/SMT2024/2024_SMT_Data_Challenge/game_events/Season_1884/Home4A/Vis4AW/day_088/game_events.csv', '/Users/kvethanayagam/Documents/Code/SMT2024/2024_SMT_Data_Challenge/game_events/Season_1884/Home4A/Vis4AW/day_087/game_events.csv', '/Users/kvethanayagam/Documents/Code/SMT2024/2024_SMT_Data_Challenge/game_events/Season_1884/Home4A/Vis4BD/day_137/game_events.csv', '/Users/kvethanayagam/Documents/Code/SMT2024/2024_SMT_Data_Challenge/game_events/Season_1884/Home4A/Vis4BD/day_136/game_events.csv', '/Users/kvethanayagam/Documents/Code/SMT2024/2024_SMT_Data_Challenge/game_events/Season_1884/Home4A/Vis4BD/day_134/game_events.csv', '/Users/kvethanayagam/Documents/Code/SMT2024/2024_SMT_Data_Challenge/game_events/Season_1884/Home4A/Vis4BD/day_135/game_events.csv', '/Users/kvethanayagam/Documents/Code/SMT2024/2024_SMT_Data_Challenge/game_events/Season_1884/Home4A/Vis4AK/day_002/game_events.csv', '/Users/kvethanayagam/Documents/Code/SMT2024/2024_SMT_Data_Challenge/game_events/Season_1884/Home4A/Vis4AK/day_004/game_events.csv', '/Users/kvethanayagam/Documents/Code/SMT2024/2024_SMT_Data_Challenge/game_events/Season_1884/Home4A/Vis4AK/day_001/game_events.csv', '/Users/kvethanayagam/Documents/Code/SMT2024/2024_SMT_Data_Challenge/game_events/Season_1884/Home4A/Vis4BC/day_125/game_events.csv', '/Users/kvethanayagam/Documents/Code/SMT2024/2024_SMT_Data_Challenge/game_events/Season_1884/Home4A/Vis4BC/day_126/game_events.csv', '/Users/kvethanayagam/Documents/Code/SMT2024/2024_SMT_Data_Challenge/game_events/Season_1884/Home4A/Vis4BC/day_127/game_events.csv', '/Users/kvethanayagam/Documents/Code/SMT2024/2024_SMT_Data_Challenge/game_events/Season_1884/Home4A/Vis4AL/day_005/game_events.csv', '/Users/kvethanayagam/Documents/Code/SMT2024/2024_SMT_Data_Challenge/game_events/Season_1884/Home4A/Vis4AL/day_006/game_events.csv', '/Users/kvethanayagam/Documents/Code/SMT2024/2024_SMT_Data_Challenge/game_events/Season_1884/Home4A/Vis4AL/day_007/game_events.csv', '/Users/kvethanayagam/Documents/Code/SMT2024/2024_SMT_Data_Challenge/game_events/Season_1884/Home1A/Vis1BC/day_137/game_events.csv', '/Users/kvethanayagam/Documents/Code/SMT2024/2024_SMT_Data_Challenge/game_events/Season_1884/Home1A/Vis1BC/day_136/game_events.csv', '/Users/kvethanayagam/Documents/Code/SMT2024/2024_SMT_Data_Challenge/game_events/Season_1884/Home1A/Vis1BC/day_135/game_events.csv', '/Users/kvethanayagam/Documents/Code/SMT2024/2024_SMT_Data_Challenge/game_events/Season_1884/Home1A/Vis1AL/day_017.5/game_events.csv', '/Users/kvethanayagam/Documents/Code/SMT2024/2024_SMT_Data_Challenge/game_events/Season_1884/Home1A/Vis1AL/day_017/game_events.csv', '/Users/kvethanayagam/Documents/Code/SMT2024/2024_SMT_Data_Challenge/game_events/Season_1884/Home1A/Vis1AL/day_018/game_events.csv', '/Users/kvethanayagam/Documents/Code/SMT2024/2024_SMT_Data_Challenge/game_events/Season_1884/Home1A/Vis1AK/day_009.5/game_events.csv', '/Users/kvethanayagam/Documents/Code/SMT2024/2024_SMT_Data_Challenge/game_events/Season_1884/Home1A/Vis1AK/day_008/game_events.csv', '/Users/kvethanayagam/Documents/Code/SMT2024/2024_SMT_Data_Challenge/game_events/Season_1884/Home1A/Vis1AK/day_009/game_events.csv', '/Users/kvethanayagam/Documents/Code/SMT2024/2024_SMT_Data_Challenge/game_events/Season_1884/Home1A/Vis1AY/day_106/game_events.csv', '/Users/kvethanayagam/Documents/Code/SMT2024/2024_SMT_Data_Challenge/game_events/Season_1884/Home1A/Vis1AY/day_108/game_events.csv', '/Users/kvethanayagam/Documents/Code/SMT2024/2024_SMT_Data_Challenge/game_events/Season_1884/Home1A/Vis1AY/day_109/game_events.csv', '/Users/kvethanayagam/Documents/Code/SMT2024/2024_SMT_Data_Challenge/game_events/Season_1884/Home1A/Vis1AY/day_107/game_events.csv', '/Users/kvethanayagam/Documents/Code/SMT2024/2024_SMT_Data_Challenge/game_events/Season_1884/Home1A/Vis1AW/day_094/game_events.csv', '/Users/kvethanayagam/Documents/Code/SMT2024/2024_SMT_Data_Challenge/game_events/Season_1884/Home1A/Vis1AW/day_095/game_events.csv', '/Users/kvethanayagam/Documents/Code/SMT2024/2024_SMT_Data_Challenge/game_events/Season_1884/Home1A/Vis1AW/day_096/game_events.csv', '/Users/kvethanayagam/Documents/Code/SMT2024/2024_SMT_Data_Challenge/game_events/Season_1884/Home1A/Vis1AP/day_044/game_events.csv', '/Users/kvethanayagam/Documents/Code/SMT2024/2024_SMT_Data_Challenge/game_events/Season_1884/Home1A/Vis1AP/day_045/game_events.csv', '/Users/kvethanayagam/Documents/Code/SMT2024/2024_SMT_Data_Challenge/game_events/Season_1884/Home1A/Vis1AP/day_044.5/game_events.csv', '/Users/kvethanayagam/Documents/Code/SMT2024/2024_SMT_Data_Challenge/game_events/Season_1884/Home1A/Vis1AP/day_046/game_events.csv', '/Users/kvethanayagam/Documents/Code/SMT2024/2024_SMT_Data_Challenge/game_events/Season_1884/Home1A/Vis1BB/day_130/game_events.csv', '/Users/kvethanayagam/Documents/Code/SMT2024/2024_SMT_Data_Challenge/game_events/Season_1884/Home1A/Vis1BB/day_131/game_events.csv', '/Users/kvethanayagam/Documents/Code/SMT2024/2024_SMT_Data_Challenge/game_events/Season_1884/Home1A/Vis1BB/day_128/game_events.csv', '/Users/kvethanayagam/Documents/Code/SMT2024/2024_SMT_Data_Challenge/game_events/Season_1884/Home1A/Vis1BB/day_129/game_events.csv', '/Users/kvethanayagam/Documents/Code/SMT2024/2024_SMT_Data_Challenge/game_events/Season_1884/Home1A/Vis1AM/day_021/game_events.csv', '/Users/kvethanayagam/Documents/Code/SMT2024/2024_SMT_Data_Challenge/game_events/Season_1884/Home1A/Vis1AM/day_020/game_events.csv', '/Users/kvethanayagam/Documents/Code/SMT2024/2024_SMT_Data_Challenge/game_events/Season_1884/Home1A/Vis1AM/day_022/game_events.csv', '/Users/kvethanayagam/Documents/Code/SMT2024/2024_SMT_Data_Challenge/game_events/Season_1884/Home1A/Vis1AQ/day_050/game_events.csv', '/Users/kvethanayagam/Documents/Code/SMT2024/2024_SMT_Data_Challenge/game_events/Season_1884/Home1A/Vis1AQ/day_049/game_events.csv', '/Users/kvethanayagam/Documents/Code/SMT2024/2024_SMT_Data_Challenge/game_events/Season_1884/Home1A/Vis1AQ/day_047/game_events.csv', '/Users/kvethanayagam/Documents/Code/SMT2024/2024_SMT_Data_Challenge/game_events/Season_1884/Home1A/Vis1AQ/day_048/game_events.csv', '/Users/kvethanayagam/Documents/Code/SMT2024/2024_SMT_Data_Challenge/game_events/Season_1884/Home1A/Vis1AV/day_093/game_events.csv', '/Users/kvethanayagam/Documents/Code/SMT2024/2024_SMT_Data_Challenge/game_events/Season_1884/Home1A/Vis1AV/day_092/game_events.csv', '/Users/kvethanayagam/Documents/Code/SMT2024/2024_SMT_Data_Challenge/game_events/Season_1884/Home1A/Vis1AV/day_091/game_events.csv', '/Users/kvethanayagam/Documents/Code/SMT2024/2024_SMT_Data_Challenge/game_events/Season_1884/Home1A/Vis1AX/day_105/game_events.csv', '/Users/kvethanayagam/Documents/Code/SMT2024/2024_SMT_Data_Challenge/game_events/Season_1884/Home1A/Vis1AX/day_104/game_events.csv', '/Users/kvethanayagam/Documents/Code/SMT2024/2024_SMT_Data_Challenge/game_events/Season_1884/Home1A/Vis1AX/day_103/game_events.csv', '/Users/kvethanayagam/Documents/Code/SMT2024/2024_SMT_Data_Challenge/game_events/Season_1884/Home1A/Vis1AZ/day_114/game_events.csv', '/Users/kvethanayagam/Documents/Code/SMT2024/2024_SMT_Data_Challenge/game_events/Season_1884/Home1A/Vis1AZ/day_113/game_events.csv', '/Users/kvethanayagam/Documents/Code/SMT2024/2024_SMT_Data_Challenge/game_events/Season_1884/Home1A/Vis1AZ/day_112/game_events.csv', '/Users/kvethanayagam/Documents/Code/SMT2024/2024_SMT_Data_Challenge/game_events/Season_1884/Home1A/Vis1AS/day_060/game_events.csv', '/Users/kvethanayagam/Documents/Code/SMT2024/2024_SMT_Data_Challenge/game_events/Season_1884/Home1A/Vis1AS/day_059/game_events.csv', '/Users/kvethanayagam/Documents/Code/SMT2024/2024_SMT_Data_Challenge/game_events/Season_1884/Home1A/Vis1AT/day_067/game_events.csv', '/Users/kvethanayagam/Documents/Code/SMT2024/2024_SMT_Data_Challenge/game_events/Season_1884/Home1A/Vis1AT/day_066/game_events.csv', '/Users/kvethanayagam/Documents/Code/SMT2024/2024_SMT_Data_Challenge/game_events/Season_1884/Home1A/Vis1AT/day_065/game_events.csv', '/Users/kvethanayagam/Documents/Code/SMT2024/2024_SMT_Data_Challenge/game_events/Season_1884/Home1A/Vis1AO/day_034/game_events.csv', '/Users/kvethanayagam/Documents/Code/SMT2024/2024_SMT_Data_Challenge/game_events/Season_1884/Home1A/Vis1AO/day_033/game_events.csv', '/Users/kvethanayagam/Documents/Code/SMT2024/2024_SMT_Data_Challenge/game_events/Season_1884/Home1A/Vis1AO/day_035/game_events.csv', '/Users/kvethanayagam/Documents/Code/SMT2024/2024_SMT_Data_Challenge/game_events/Season_1884/Home1A/Vis1AU/day_075/game_events.csv', '/Users/kvethanayagam/Documents/Code/SMT2024/2024_SMT_Data_Challenge/game_events/Season_1884/Home1A/Vis1AU/day_074/game_events.csv', '/Users/kvethanayagam/Documents/Code/SMT2024/2024_SMT_Data_Challenge/game_events/Season_1884/Home1A/Vis1AU/day_076/game_events.csv', '/Users/kvethanayagam/Documents/Code/SMT2024/2024_SMT_Data_Challenge/game_events/Season_1884/Home1A/Vis1AU/day_077/game_events.csv', '/Users/kvethanayagam/Documents/Code/SMT2024/2024_SMT_Data_Challenge/game_events/Season_1884/Home1A/Vis1AR/day_056/game_events.csv', '/Users/kvethanayagam/Documents/Code/SMT2024/2024_SMT_Data_Challenge/game_events/Season_1884/Home1A/Vis1AR/day_055/game_events.csv', '/Users/kvethanayagam/Documents/Code/SMT2024/2024_SMT_Data_Challenge/game_events/Season_1884/Home1A/Vis1AR/day_054/game_events.csv', '/Users/kvethanayagam/Documents/Code/SMT2024/2024_SMT_Data_Challenge/game_events/Season_1884/Home1A/Vis1BA/day_117/game_events.csv', '/Users/kvethanayagam/Documents/Code/SMT2024/2024_SMT_Data_Challenge/game_events/Season_1884/Home1A/Vis1BA/day_116/game_events.csv', '/Users/kvethanayagam/Documents/Code/SMT2024/2024_SMT_Data_Challenge/game_events/Season_1884/Home1A/Vis1BA/day_118/game_events.csv', '/Users/kvethanayagam/Documents/Code/SMT2024/2024_SMT_Data_Challenge/game_events/Season_1884/Home1A/Vis1AN/day_032/game_events.csv', '/Users/kvethanayagam/Documents/Code/SMT2024/2024_SMT_Data_Challenge/game_events/Season_1884/Home1A/Vis1AN/day_030/game_events.csv', '/Users/kvethanayagam/Documents/Code/SMT2024/2024_SMT_Data_Challenge/game_events/Season_1884/Home1A/Vis1AN/day_031/game_events.csv', '/Users/kvethanayagam/Documents/Code/SMT2024/2024_SMT_Data_Challenge/game_events/Season_1884/Home2A/Vis2AW/day_136/game_events.csv', '/Users/kvethanayagam/Documents/Code/SMT2024/2024_SMT_Data_Challenge/game_events/Season_1884/Home2A/Vis2AW/day_134.5/game_events.csv', '/Users/kvethanayagam/Documents/Code/SMT2024/2024_SMT_Data_Challenge/game_events/Season_1884/Home2A/Vis2AW/day_134/game_events.csv', '/Users/kvethanayagam/Documents/Code/SMT2024/2024_SMT_Data_Challenge/game_events/Season_1884/Home2A/Vis2AW/day_135/game_events.csv', '/Users/kvethanayagam/Documents/Code/SMT2024/2024_SMT_Data_Challenge/game_events/Season_1884/Home2A/Vis2AP/day_089/game_events.csv', '/Users/kvethanayagam/Documents/Code/SMT2024/2024_SMT_Data_Challenge/game_events/Season_1884/Home2A/Vis2AP/day_092.5/game_events.csv', '/Users/kvethanayagam/Documents/Code/SMT2024/2024_SMT_Data_Challenge/game_events/Season_1884/Home2A/Vis2AP/day_092/game_events.csv', '/Users/kvethanayagam/Documents/Code/SMT2024/2024_SMT_Data_Challenge/game_events/Season_1884/Home2A/Vis2AP/day_090/game_events.csv', '/Users/kvethanayagam/Documents/Code/SMT2024/2024_SMT_Data_Challenge/game_events/Season_1884/Home2A/Vis2AL/day_058/game_events.csv', '/Users/kvethanayagam/Documents/Code/SMT2024/2024_SMT_Data_Challenge/game_events/Season_1884/Home2A/Vis2AL/day_060/game_events.csv', '/Users/kvethanayagam/Documents/Code/SMT2024/2024_SMT_Data_Challenge/game_events/Season_1884/Home2A/Vis2AL/day_059/game_events.csv', '/Users/kvethanayagam/Documents/Code/SMT2024/2024_SMT_Data_Challenge/game_events/Season_1884/Home2A/Vis2AL/day_057/game_events.csv', '/Users/kvethanayagam/Documents/Code/SMT2024/2024_SMT_Data_Challenge/game_events/Season_1884/Home2A/Vis2AK/day_043.5/game_events.csv', '/Users/kvethanayagam/Documents/Code/SMT2024/2024_SMT_Data_Challenge/game_events/Season_1884/Home2A/Vis2AK/day_043/game_events.csv', '/Users/kvethanayagam/Documents/Code/SMT2024/2024_SMT_Data_Challenge/game_events/Season_1884/Home2A/Vis2AK/day_041/game_events.csv', '/Users/kvethanayagam/Documents/Code/SMT2024/2024_SMT_Data_Challenge/game_events/Season_1884/Home2A/Vis2AQ/day_097/game_events.csv', '/Users/kvethanayagam/Documents/Code/SMT2024/2024_SMT_Data_Challenge/game_events/Season_1884/Home2A/Vis2AQ/day_096/game_events.csv', '/Users/kvethanayagam/Documents/Code/SMT2024/2024_SMT_Data_Challenge/game_events/Season_1884/Home2A/Vis2AQ/day_098/game_events.csv', '/Users/kvethanayagam/Documents/Code/SMT2024/2024_SMT_Data_Challenge/game_events/Season_1884/Home2A/Vis2AV/day_131/game_events.csv', '/Users/kvethanayagam/Documents/Code/SMT2024/2024_SMT_Data_Challenge/game_events/Season_1884/Home2A/Vis2AV/day_133/game_events.csv', '/Users/kvethanayagam/Documents/Code/SMT2024/2024_SMT_Data_Challenge/game_events/Season_1884/Home2A/Vis2AV/day_132/game_events.csv', '/Users/kvethanayagam/Documents/Code/SMT2024/2024_SMT_Data_Challenge/game_events/Season_1884/Home2A/Vis2AV/day_133.5/game_events.csv', '/Users/kvethanayagam/Documents/Code/SMT2024/2024_SMT_Data_Challenge/game_events/Season_1884/Home2A/Vis2AJ/day_037/game_events.csv', '/Users/kvethanayagam/Documents/Code/SMT2024/2024_SMT_Data_Challenge/game_events/Season_1884/Home2A/Vis2AJ/day_039/game_events.csv', '/Users/kvethanayagam/Documents/Code/SMT2024/2024_SMT_Data_Challenge/game_events/Season_1884/Home2A/Vis2AJ/day_038/game_events.csv', '/Users/kvethanayagam/Documents/Code/SMT2024/2024_SMT_Data_Challenge/game_events/Season_1884/Home2A/Vis2AM/day_061/game_events.csv', '/Users/kvethanayagam/Documents/Code/SMT2024/2024_SMT_Data_Challenge/game_events/Season_1884/Home2A/Vis2AM/day_063/game_events.csv', '/Users/kvethanayagam/Documents/Code/SMT2024/2024_SMT_Data_Challenge/game_events/Season_1884/Home2A/Vis2AM/day_062/game_events.csv', '/Users/kvethanayagam/Documents/Code/SMT2024/2024_SMT_Data_Challenge/game_events/Season_1884/Home2A/Vis2AF/day_010/game_events.csv', '/Users/kvethanayagam/Documents/Code/SMT2024/2024_SMT_Data_Challenge/game_events/Season_1884/Home2A/Vis2AF/day_011/game_events.csv', '/Users/kvethanayagam/Documents/Code/SMT2024/2024_SMT_Data_Challenge/game_events/Season_1884/Home2A/Vis2AF/day_012/game_events.csv', '/Users/kvethanayagam/Documents/Code/SMT2024/2024_SMT_Data_Challenge/game_events/Season_1884/Home2A/Vis2AH/day_026/game_events.csv', '/Users/kvethanayagam/Documents/Code/SMT2024/2024_SMT_Data_Challenge/game_events/Season_1884/Home2A/Vis2AH/day_025/game_events.csv', '/Users/kvethanayagam/Documents/Code/SMT2024/2024_SMT_Data_Challenge/game_events/Season_1884/Home2A/Vis2AH/day_024/game_events.csv', '/Users/kvethanayagam/Documents/Code/SMT2024/2024_SMT_Data_Challenge/game_events/Season_1884/Home2A/Vis2AO/day_081/game_events.csv', '/Users/kvethanayagam/Documents/Code/SMT2024/2024_SMT_Data_Challenge/game_events/Season_1884/Home2A/Vis2AO/day_082/game_events.csv', '/Users/kvethanayagam/Documents/Code/SMT2024/2024_SMT_Data_Challenge/game_events/Season_1884/Home2A/Vis2AO/day_083/game_events.csv', '/Users/kvethanayagam/Documents/Code/SMT2024/2024_SMT_Data_Challenge/game_events/Season_1884/Home2A/Vis2AS/day_114/game_events.csv', '/Users/kvethanayagam/Documents/Code/SMT2024/2024_SMT_Data_Challenge/game_events/Season_1884/Home2A/Vis2AS/day_115/game_events.csv', '/Users/kvethanayagam/Documents/Code/SMT2024/2024_SMT_Data_Challenge/game_events/Season_1884/Home2A/Vis2AS/day_116/game_events.csv', '/Users/kvethanayagam/Documents/Code/SMT2024/2024_SMT_Data_Challenge/game_events/Season_1884/Home2A/Vis2AT/day_119/game_events.csv', '/Users/kvethanayagam/Documents/Code/SMT2024/2024_SMT_Data_Challenge/game_events/Season_1884/Home2A/Vis2AT/day_117/game_events.csv', '/Users/kvethanayagam/Documents/Code/SMT2024/2024_SMT_Data_Challenge/game_events/Season_1884/Home2A/Vis2AT/day_118/game_events.csv', '/Users/kvethanayagam/Documents/Code/SMT2024/2024_SMT_Data_Challenge/game_events/Season_1884/Home2A/Vis2AT/day_120/game_events.csv', '/Users/kvethanayagam/Documents/Code/SMT2024/2024_SMT_Data_Challenge/game_events/Season_1884/Home2A/Vis2AN/day_072.5/game_events.csv', '/Users/kvethanayagam/Documents/Code/SMT2024/2024_SMT_Data_Challenge/game_events/Season_1884/Home2A/Vis2AN/day_072/game_events.csv', '/Users/kvethanayagam/Documents/Code/SMT2024/2024_SMT_Data_Challenge/game_events/Season_1884/Home2A/Vis2AN/day_073/game_events.csv', '/Users/kvethanayagam/Documents/Code/SMT2024/2024_SMT_Data_Challenge/game_events/Season_1884/Home2A/Vis2AN/day_071/game_events.csv', '/Users/kvethanayagam/Documents/Code/SMT2024/2024_SMT_Data_Challenge/game_events/Season_1884/Home2A/Vis2AI/day_028/game_events.csv', '/Users/kvethanayagam/Documents/Code/SMT2024/2024_SMT_Data_Challenge/game_events/Season_1884/Home2A/Vis2AI/day_027/game_events.csv', '/Users/kvethanayagam/Documents/Code/SMT2024/2024_SMT_Data_Challenge/game_events/Season_1884/Home2A/Vis2AI/day_029/game_events.csv', '/Users/kvethanayagam/Documents/Code/SMT2024/2024_SMT_Data_Challenge/game_events/Season_1884/Home2A/Vis2AG/day_013/game_events.csv', '/Users/kvethanayagam/Documents/Code/SMT2024/2024_SMT_Data_Challenge/game_events/Season_1884/Home2A/Vis2AG/day_014/game_events.csv', '/Users/kvethanayagam/Documents/Code/SMT2024/2024_SMT_Data_Challenge/game_events/Season_1884/Home2A/Vis2AG/day_015/game_events.csv', '/Users/kvethanayagam/Documents/Code/SMT2024/2024_SMT_Data_Challenge/game_events/Season_1884/Home2A/Vis2AU/day_122/game_events.csv', '/Users/kvethanayagam/Documents/Code/SMT2024/2024_SMT_Data_Challenge/game_events/Season_1884/Home2A/Vis2AU/day_123/game_events.csv', '/Users/kvethanayagam/Documents/Code/SMT2024/2024_SMT_Data_Challenge/game_events/Season_1884/Home2A/Vis2AU/day_121/game_events.csv', '/Users/kvethanayagam/Documents/Code/SMT2024/2024_SMT_Data_Challenge/game_events/Season_1884/Home2A/Vis2AR/day_109/game_events.csv', '/Users/kvethanayagam/Documents/Code/SMT2024/2024_SMT_Data_Challenge/game_events/Season_1884/Home2A/Vis2AR/day_109.5/game_events.csv', '/Users/kvethanayagam/Documents/Code/SMT2024/2024_SMT_Data_Challenge/game_events/Season_1884/Home2A/Vis2AR/day_110/game_events.csv', '/Users/kvethanayagam/Documents/Code/SMT2024/2024_SMT_Data_Challenge/game_events/Season_1884/Home2A/Vis2AR/day_111/game_events.csv']\n",
      "/Users/kvethanayagam/Documents/Code/SMT2024\n",
      "/Users/kvethanayagam/Documents/Code/SMT2024/2024_SMT_Data_Challenge/game_events\n"
     ]
    }
   ],
   "source": [
    "current_dir = os.getcwd()\n",
    "game_events_root_dir = os.path.join(current_dir, \"2024_SMT_Data_Challenge/game_events\")\n",
    "game_info_root_dir = os.path.join(current_dir, \"2024_SMT_Data_Challenge/game_info\")\n",
    "years = [\"Season_1883\", \"Season_1884\"]\n",
    "\n",
    "\n",
    "# Get all game events files\n",
    "game_events_files = []\n",
    "for path, subdirs, files in os.walk(game_events_root_dir):\n",
    "    for filename in files:\n",
    "        file_path = os.path.join(path, filename)\n",
    "        \n",
    "        # Remove .DS_Store files from list\n",
    "        if file_path[-3:] == \"csv\":\n",
    "           game_events_files.append(file_path)\n",
    "\n",
    "# Get all game info files\n",
    "game_info_files = []\n",
    "for path, subdirs, files in os.walk(game_info_root_dir):\n",
    "    for filename in files:\n",
    "        file_path = os.path.join(path, filename)\n",
    "        \n",
    "        # Remove .DS_Store files from list\n",
    "        if file_path[-3:] == \"csv\":\n",
    "           game_info_files.append(file_path)"
   ]
  },
  {
   "cell_type": "markdown",
   "metadata": {},
   "source": [
    "Add player_id for outfielders to imported dataframe "
   ]
  },
  {
   "cell_type": "code",
   "execution_count": 50,
   "metadata": {},
   "outputs": [
    {
     "name": "stdout",
     "output_type": "stream",
     "text": [
      "index                                                                    0\n",
      "game_str_play_id                                  1883_001_Vis1AB_Home1A_2\n",
      "game_str                                            1883_001_Vis1AB_Home1A\n",
      "play_id                                                                  2\n",
      "timestamp                                                            67373\n",
      "event_code                                                               1\n",
      "ball_pos                                     (-0.956334, 55.6236, 5.09457)\n",
      "player_positions         [{7: (-129.6927, 257.6286)}, {8: (-5.5209, 308...\n",
      "player_position                                                          1\n",
      "ball_dist_from_o                                                 55.864605\n",
      "player_pos_from_o        [{7: 288.43143374335955}, {8: 308.692973936515...\n",
      "player_ball_distances    [{7: 239.5414011092255}, {8: 253.0631671189097...\n",
      "catch_position                                          {7: 0, 8: 0, 9: 0}\n",
      "play_per_game                                                            2\n",
      "id7                                                                  492.0\n",
      "id8                                                                  594.0\n",
      "id9                                                                  537.0\n",
      "Name: 0, dtype: object\n",
      "index                                                                    1\n",
      "game_str_play_id                                  1883_001_Vis1AB_Home1A_2\n",
      "game_str                                            1883_001_Vis1AB_Home1A\n",
      "play_id                                                                  2\n",
      "timestamp                                                            67423\n",
      "event_code                                                            1000\n",
      "ball_pos                                       (-0.73377, 48.891, 5.01744)\n",
      "player_positions         [{7: (-129.672, 257.6757)}, {8: (-5.5326, 308....\n",
      "player_position                                                       1000\n",
      "ball_dist_from_o                                                  49.15326\n",
      "player_pos_from_o        [{7: 288.4641987396183}, {8: 308.6850847109558...\n",
      "player_ball_distances    [{7: 245.39211488101347}, {8: 259.791081420768...\n",
      "catch_position                                          {7: 0, 8: 0, 9: 0}\n",
      "play_per_game                                                            2\n",
      "id7                                                                  492.0\n",
      "id8                                                                  594.0\n",
      "id9                                                                  537.0\n",
      "Name: 1, dtype: object\n",
      "index                                                                    2\n",
      "game_str_play_id                                  1883_001_Vis1AB_Home1A_2\n",
      "game_str                                            1883_001_Vis1AB_Home1A\n",
      "play_id                                                                  2\n",
      "timestamp                                                            67473\n",
      "event_code                                                            1000\n",
      "ball_pos                                     (-0.530736, 42.2343, 4.86402)\n",
      "player_positions         [{7: (-129.6516, 257.7225)}, {8: (-5.5449, 308...\n",
      "player_position                                                       1000\n",
      "ball_dist_from_o                                                 42.516779\n",
      "player_pos_from_o        [{7: 288.49683601178367}, {8: 308.677206717259...\n",
      "player_ball_distances    [{7: 251.21482740058738}, {8: 266.443151938249...\n",
      "catch_position                                          {7: 0, 8: 0, 9: 0}\n",
      "play_per_game                                                            2\n",
      "id7                                                                  492.0\n",
      "id8                                                                  594.0\n",
      "id9                                                                  537.0\n",
      "Name: 2, dtype: object\n"
     ]
    },
    {
     "ename": "KeyboardInterrupt",
     "evalue": "",
     "output_type": "error",
     "traceback": [
      "\u001b[0;31m---------------------------------------------------------------------------\u001b[0m",
      "\u001b[0;31mKeyboardInterrupt\u001b[0m                         Traceback (most recent call last)",
      "Cell \u001b[0;32mIn[50], line 9\u001b[0m\n\u001b[1;32m      5\u001b[0m df[\u001b[38;5;124m\"\u001b[39m\u001b[38;5;124mid9\u001b[39m\u001b[38;5;124m\"\u001b[39m] \u001b[38;5;241m=\u001b[39m np\u001b[38;5;241m.\u001b[39mnan\n\u001b[1;32m      7\u001b[0m counter \u001b[38;5;241m=\u001b[39m \u001b[38;5;241m0\u001b[39m\n\u001b[0;32m----> 9\u001b[0m \u001b[38;5;28;43;01mfor\u001b[39;49;00m\u001b[43m \u001b[49m\u001b[43mindex\u001b[49m\u001b[43m,\u001b[49m\u001b[43m \u001b[49m\u001b[43mrow\u001b[49m\u001b[43m \u001b[49m\u001b[38;5;129;43;01min\u001b[39;49;00m\u001b[43m \u001b[49m\u001b[43mdf\u001b[49m\u001b[38;5;241;43m.\u001b[39;49m\u001b[43miterrows\u001b[49m\u001b[43m(\u001b[49m\u001b[43m)\u001b[49m\u001b[43m:\u001b[49m\n\u001b[1;32m     10\u001b[0m \u001b[43m    \u001b[49m\u001b[38;5;28;43;01mif\u001b[39;49;00m\u001b[43m \u001b[49m\u001b[43mcounter\u001b[49m\u001b[43m \u001b[49m\u001b[38;5;241;43m<\u001b[39;49m\u001b[38;5;241;43m=\u001b[39;49m\u001b[43m \u001b[49m\u001b[38;5;241;43m2\u001b[39;49m\u001b[43m:\u001b[49m\n\u001b[1;32m     11\u001b[0m \u001b[43m        \u001b[49m\u001b[43mgame_str\u001b[49m\u001b[43m \u001b[49m\u001b[38;5;241;43m=\u001b[39;49m\u001b[43m \u001b[49m\u001b[43mrow\u001b[49m\u001b[43m[\u001b[49m\u001b[38;5;124;43m\"\u001b[39;49m\u001b[38;5;124;43mgame_str\u001b[39;49m\u001b[38;5;124;43m\"\u001b[39;49m\u001b[43m]\u001b[49m\n",
      "File \u001b[0;32m~/Documents/Code/SMT2024/venv/lib/python3.11/site-packages/pandas/core/frame.py:1554\u001b[0m, in \u001b[0;36mDataFrame.iterrows\u001b[0;34m(self)\u001b[0m\n\u001b[1;32m   1552\u001b[0m using_cow \u001b[38;5;241m=\u001b[39m using_copy_on_write()\n\u001b[1;32m   1553\u001b[0m \u001b[38;5;28;01mfor\u001b[39;00m k, v \u001b[38;5;129;01min\u001b[39;00m \u001b[38;5;28mzip\u001b[39m(\u001b[38;5;28mself\u001b[39m\u001b[38;5;241m.\u001b[39mindex, \u001b[38;5;28mself\u001b[39m\u001b[38;5;241m.\u001b[39mvalues):\n\u001b[0;32m-> 1554\u001b[0m     s \u001b[38;5;241m=\u001b[39m \u001b[43mklass\u001b[49m\u001b[43m(\u001b[49m\u001b[43mv\u001b[49m\u001b[43m,\u001b[49m\u001b[43m \u001b[49m\u001b[43mindex\u001b[49m\u001b[38;5;241;43m=\u001b[39;49m\u001b[43mcolumns\u001b[49m\u001b[43m,\u001b[49m\u001b[43m \u001b[49m\u001b[43mname\u001b[49m\u001b[38;5;241;43m=\u001b[39;49m\u001b[43mk\u001b[49m\u001b[43m)\u001b[49m\u001b[38;5;241m.\u001b[39m__finalize__(\u001b[38;5;28mself\u001b[39m)\n\u001b[1;32m   1555\u001b[0m     \u001b[38;5;28;01mif\u001b[39;00m using_cow \u001b[38;5;129;01mand\u001b[39;00m \u001b[38;5;28mself\u001b[39m\u001b[38;5;241m.\u001b[39m_mgr\u001b[38;5;241m.\u001b[39mis_single_block:\n\u001b[1;32m   1556\u001b[0m         s\u001b[38;5;241m.\u001b[39m_mgr\u001b[38;5;241m.\u001b[39madd_references(\u001b[38;5;28mself\u001b[39m\u001b[38;5;241m.\u001b[39m_mgr)  \u001b[38;5;66;03m# type: ignore[arg-type]\u001b[39;00m\n",
      "File \u001b[0;32m~/Documents/Code/SMT2024/venv/lib/python3.11/site-packages/pandas/core/series.py:575\u001b[0m, in \u001b[0;36mSeries.__init__\u001b[0;34m(self, data, index, dtype, name, copy, fastpath)\u001b[0m\n\u001b[1;32m    573\u001b[0m     index \u001b[38;5;241m=\u001b[39m default_index(\u001b[38;5;28mlen\u001b[39m(data))\n\u001b[1;32m    574\u001b[0m \u001b[38;5;28;01melif\u001b[39;00m is_list_like(data):\n\u001b[0;32m--> 575\u001b[0m     \u001b[43mcom\u001b[49m\u001b[38;5;241;43m.\u001b[39;49m\u001b[43mrequire_length_match\u001b[49m\u001b[43m(\u001b[49m\u001b[43mdata\u001b[49m\u001b[43m,\u001b[49m\u001b[43m \u001b[49m\u001b[43mindex\u001b[49m\u001b[43m)\u001b[49m\n\u001b[1;32m    577\u001b[0m \u001b[38;5;66;03m# create/copy the manager\u001b[39;00m\n\u001b[1;32m    578\u001b[0m \u001b[38;5;28;01mif\u001b[39;00m \u001b[38;5;28misinstance\u001b[39m(data, (SingleBlockManager, SingleArrayManager)):\n",
      "File \u001b[0;32m~/Documents/Code/SMT2024/venv/lib/python3.11/site-packages/pandas/core/common.py:572\u001b[0m, in \u001b[0;36mrequire_length_match\u001b[0;34m(data, index)\u001b[0m\n\u001b[1;32m    568\u001b[0m \u001b[38;5;28;01mdef\u001b[39;00m \u001b[38;5;21mrequire_length_match\u001b[39m(data, index: Index) \u001b[38;5;241m-\u001b[39m\u001b[38;5;241m>\u001b[39m \u001b[38;5;28;01mNone\u001b[39;00m:\n\u001b[1;32m    569\u001b[0m \u001b[38;5;250m    \u001b[39m\u001b[38;5;124;03m\"\"\"\u001b[39;00m\n\u001b[1;32m    570\u001b[0m \u001b[38;5;124;03m    Check the length of data matches the length of the index.\u001b[39;00m\n\u001b[1;32m    571\u001b[0m \u001b[38;5;124;03m    \"\"\"\u001b[39;00m\n\u001b[0;32m--> 572\u001b[0m     \u001b[38;5;28;01mif\u001b[39;00m \u001b[38;5;28mlen\u001b[39m(data) \u001b[38;5;241m!=\u001b[39m \u001b[38;5;28mlen\u001b[39m(index):\n\u001b[1;32m    573\u001b[0m         \u001b[38;5;28;01mraise\u001b[39;00m \u001b[38;5;167;01mValueError\u001b[39;00m(\n\u001b[1;32m    574\u001b[0m             \u001b[38;5;124m\"\u001b[39m\u001b[38;5;124mLength of values \u001b[39m\u001b[38;5;124m\"\u001b[39m\n\u001b[1;32m    575\u001b[0m             \u001b[38;5;124mf\u001b[39m\u001b[38;5;124m\"\u001b[39m\u001b[38;5;124m(\u001b[39m\u001b[38;5;132;01m{\u001b[39;00m\u001b[38;5;28mlen\u001b[39m(data)\u001b[38;5;132;01m}\u001b[39;00m\u001b[38;5;124m) \u001b[39m\u001b[38;5;124m\"\u001b[39m\n\u001b[1;32m    576\u001b[0m             \u001b[38;5;124m\"\u001b[39m\u001b[38;5;124mdoes not match length of index \u001b[39m\u001b[38;5;124m\"\u001b[39m\n\u001b[1;32m    577\u001b[0m             \u001b[38;5;124mf\u001b[39m\u001b[38;5;124m\"\u001b[39m\u001b[38;5;124m(\u001b[39m\u001b[38;5;132;01m{\u001b[39;00m\u001b[38;5;28mlen\u001b[39m(index)\u001b[38;5;132;01m}\u001b[39;00m\u001b[38;5;124m)\u001b[39m\u001b[38;5;124m\"\u001b[39m\n\u001b[1;32m    578\u001b[0m         )\n",
      "File \u001b[0;32m~/Documents/Code/SMT2024/venv/lib/python3.11/site-packages/pandas/core/indexes/base.py:909\u001b[0m, in \u001b[0;36mIndex.__len__\u001b[0;34m(self)\u001b[0m\n\u001b[1;32m    899\u001b[0m     \u001b[38;5;28;01mreturn\u001b[39;00m {\n\u001b[1;32m    900\u001b[0m         c\n\u001b[1;32m    901\u001b[0m         \u001b[38;5;28;01mfor\u001b[39;00m c \u001b[38;5;129;01min\u001b[39;00m \u001b[38;5;28mself\u001b[39m\u001b[38;5;241m.\u001b[39munique(level\u001b[38;5;241m=\u001b[39m\u001b[38;5;241m0\u001b[39m)[: get_option(\u001b[38;5;124m\"\u001b[39m\u001b[38;5;124mdisplay.max_dir_items\u001b[39m\u001b[38;5;124m\"\u001b[39m)]\n\u001b[1;32m    902\u001b[0m         \u001b[38;5;28;01mif\u001b[39;00m \u001b[38;5;28misinstance\u001b[39m(c, \u001b[38;5;28mstr\u001b[39m) \u001b[38;5;129;01mand\u001b[39;00m c\u001b[38;5;241m.\u001b[39misidentifier()\n\u001b[1;32m    903\u001b[0m     }\n\u001b[1;32m    905\u001b[0m \u001b[38;5;66;03m# --------------------------------------------------------------------\u001b[39;00m\n\u001b[1;32m    906\u001b[0m \u001b[38;5;66;03m# Array-Like Methods\u001b[39;00m\n\u001b[1;32m    907\u001b[0m \n\u001b[1;32m    908\u001b[0m \u001b[38;5;66;03m# ndarray compat\u001b[39;00m\n\u001b[0;32m--> 909\u001b[0m \u001b[38;5;28;01mdef\u001b[39;00m \u001b[38;5;21m__len__\u001b[39m(\u001b[38;5;28mself\u001b[39m) \u001b[38;5;241m-\u001b[39m\u001b[38;5;241m>\u001b[39m \u001b[38;5;28mint\u001b[39m:\n\u001b[1;32m    910\u001b[0m \u001b[38;5;250m    \u001b[39m\u001b[38;5;124;03m\"\"\"\u001b[39;00m\n\u001b[1;32m    911\u001b[0m \u001b[38;5;124;03m    Return the length of the Index.\u001b[39;00m\n\u001b[1;32m    912\u001b[0m \u001b[38;5;124;03m    \"\"\"\u001b[39;00m\n\u001b[1;32m    913\u001b[0m     \u001b[38;5;28;01mreturn\u001b[39;00m \u001b[38;5;28mlen\u001b[39m(\u001b[38;5;28mself\u001b[39m\u001b[38;5;241m.\u001b[39m_data)\n",
      "\u001b[0;31mKeyboardInterrupt\u001b[0m: "
     ]
    }
   ],
   "source": [
    "# Add empty play_per_game, id7, id8, id9 columns to df\n",
    "df[\"play_per_game\"] = np.nan\n",
    "df[\"id7\"] = np.nan\n",
    "df[\"id8\"] = np.nan\n",
    "df[\"id9\"] = np.nan\n",
    "\n",
    "counter = 0\n",
    "\n",
    "for index, row in df.iterrows():\n",
    "    if counter <= 2:\n",
    "        game_str = row[\"game_str\"]\n",
    "\n",
    "        # Get game info to help identify file\n",
    "        year = game_str[:4]\n",
    "        day = game_str[5:8]\n",
    "        away_team = game_str[9:15]\n",
    "        home_team = game_str[16:]\n",
    "\n",
    "        # Get files for game info and game events\n",
    "        for i in game_events_files:\n",
    "            if year in i and day in i and away_team in i and home_team in i:\n",
    "                game_events = pd.read_csv(i)\n",
    "                break\n",
    "        \n",
    "        for i in game_info_files:\n",
    "            if year in i and day in i and away_team in i and home_team in i:\n",
    "                game_info = pd.read_csv(i)\n",
    "                break\n",
    "\n",
    "        # Get play_per_game given the play_id\n",
    "        for game_index, game_row in game_events.iterrows():\n",
    "            if game_row[\"play_id\"] == row[\"play_id\"]:\n",
    "                row[\"play_per_game\"] = game_row[\"play_per_game\"]\n",
    "                break\n",
    "\n",
    "        # If the play_per_game matches, then add the player_ids for the outfielders\n",
    "        for game_index, game_row in game_info.iterrows():\n",
    "            if game_row[\"play_per_game\"] == row[\"play_per_game\"]:\n",
    "                row[\"id7\"] = game_row[\"left_field\"]\n",
    "                row[\"id8\"] = game_row[\"center_field\"]\n",
    "                row[\"id9\"] = game_row[\"right_field\"]\n",
    "                break        "
   ]
  },
  {
   "cell_type": "markdown",
   "metadata": {},
   "source": [
    "Create New Data Frame and fill in rows"
   ]
  },
  {
   "cell_type": "code",
   "execution_count": 121,
   "metadata": {},
   "outputs": [],
   "source": [
    "# Initialize variables and DataFrames\n",
    "final_df = pd.DataFrame()\n",
    "new_row1 = {}\n",
    "new_row2 = {}\n",
    "new_row3 = {}\n",
    "begun = False\n",
    "play_start = False\n",
    "count = 0\n",
    "\n",
    "# Iterate through rows in df\n",
    "for index, row in df.iterrows():\n",
    "    play_id = row['play_id']\n",
    "    if row['event_code'] == 1:\n",
    "        play_start = True\n",
    "    \n",
    "    if play_start:\n",
    "        count +=1\n",
    "        if not begun:\n",
    "            if row['event_code'] == 4 and isinstance(eval(row['ball_pos']), tuple):\n",
    "\n",
    "                begun = True\n",
    "                start_time = row['timestamp']\n",
    "\n",
    "                ball_start_x = eval(row['ball_pos'])[0]\n",
    "                ball_start_y = eval(row['ball_pos'])[1]\n",
    "\n",
    "                # Get player initial positions\n",
    "                starting_places = eval(row['player_positions'])\n",
    "\n",
    "                ''' \n",
    "                Create baseline here\n",
    "                '''\n",
    "\n",
    "\n",
    "                \n",
    "        elif row['event_code'] != 4000:\n",
    "            ball_pos = eval(row['ball_pos'])\n",
    "\n",
    "            if isinstance(ball_pos, tuple) and isinstance(starting_places, list) and len(starting_places)==3:\n",
    "\n",
    "                '''\n",
    "                1.Create a line from home plate to initial player position \n",
    "                    - This will be 0 degrees\n",
    "                2. Find angle of final ball position relative to base line\n",
    "                '''\n",
    "\n",
    "                # Get ball final positions\n",
    "                ball_x, ball_y = ball_pos[0], ball_pos[1]\n",
    "\n",
    "                # Get angle offsets to make sure each fielder has standard angle meaning\n",
    "\n",
    "                offset_angle_1 = 90 - get_angle(starting_places[0][7][0], starting_places[0][7][1], ball_start_x, ball_start_y)\n",
    "                offset_angle_2 = 90 - get_angle(starting_places[1][8][0], starting_places[1][8][1], ball_start_x, ball_start_y)\n",
    "                offset_angle_3 = 90 - get_angle(starting_places[2][9][0], starting_places[2][9][1], ball_start_x, ball_start_y)\n",
    "\n",
    "\n",
    "\n",
    "                ang_rellative_1 = pos_angle(get_angle(ball_x, ball_y, starting_places[0][7][0], starting_places[0][7][1]) + offset_angle_1)\n",
    "                ang_rellative_2 = pos_angle(get_angle(ball_x, ball_y, starting_places[1][8][0], starting_places[1][8][1]) + offset_angle_2)\n",
    "                ang_rellative_3 = pos_angle(get_angle(ball_x, ball_y, starting_places[2][9][0], starting_places[2][9][1]) + offset_angle_3)\n",
    "\n",
    "                \n",
    "\n",
    "\n",
    "\n",
    "                distance_1 = calculate_distance(ball_x, ball_y, starting_places[0][7][0], starting_places[0][7][1])\n",
    "                distance_2 = calculate_distance(ball_x, ball_y, starting_places[1][8][0], starting_places[1][8][1])\n",
    "                distance_3 = calculate_distance(ball_x, ball_y, starting_places[2][9][0], starting_places[2][9][1])\n",
    "\n",
    "\n",
    "\n",
    "\n",
    "                \n",
    "                if row['event_code'] == 2:\n",
    "                    catch_positions = eval(row['catch_position'])\n",
    "\n",
    "                    new_row1 = {'distance': distance_1, 'time': row['timestamp'] - start_time, 'angle': ang_rellative_1, 'catch': catch_positions.get(7, 0)}\n",
    "                    new_row2 = {'distance': distance_2, 'time': row['timestamp'] - start_time,'angle': ang_rellative_2, 'catch': catch_positions.get(8, 0)}\n",
    "                    new_row3 = {'distance': distance_3, 'time': row['timestamp'] - start_time,'angle': ang_rellative_3, 'catch': catch_positions.get(9, 0)}\n",
    "                else:\n",
    "                    new_row1 = {'distance': distance_1, 'time': row['timestamp'] - start_time,'angle': ang_rellative_1, 'catch': 0}\n",
    "                    new_row2 = {'distance': distance_2, 'time': row['timestamp'] - start_time,'angle': ang_rellative_2, 'catch': 0}\n",
    "                    new_row3 = {'distance': distance_3, 'time': row['timestamp'] - start_time, 'angle': ang_rellative_3,'catch': 0}\n",
    "\n",
    "                # Convert dictionaries to DataFrames\n",
    "                df_new_row_1 = pd.DataFrame(new_row1, index=[0])\n",
    "                df_new_row_2 = pd.DataFrame(new_row2, index=[0])\n",
    "                df_new_row_3 = pd.DataFrame(new_row3, index=[0])\n",
    "\n",
    "                # Concatenate DataFrames to final_df\n",
    "                final_df = pd.concat([final_df, df_new_row_1, df_new_row_2, df_new_row_3], ignore_index=True)\n",
    "\n",
    "                # Reset new_row dictionaries\n",
    "                new_row1 = {}\n",
    "                new_row2 = {}\n",
    "                new_row3 = {}\n",
    "\n",
    "            begun = False\n",
    "            play_start = False"
   ]
  },
  {
   "cell_type": "markdown",
   "metadata": {},
   "source": [
    "Export as csv"
   ]
  },
  {
   "cell_type": "code",
   "execution_count": 131,
   "metadata": {},
   "outputs": [
    {
     "name": "stdout",
     "output_type": "stream",
     "text": [
      "         distance  time       angle  catch\n",
      "0      133.321061  5500  351.558070      0\n",
      "1       23.774403  5500  115.469087      1\n",
      "2      163.004893  5500  188.731762      0\n",
      "3       59.623193  5150   45.448349      1\n",
      "4      162.019367  5150  142.124675      0\n",
      "...           ...   ...         ...    ...\n",
      "10525  188.289394  6300   23.187083      0\n",
      "10526   69.157659  6300  351.024277      1\n",
      "10527  199.475985  5800   25.474118      0\n",
      "10528   50.665847  5800  132.204260      1\n",
      "10529   78.973925  5800  151.834119      0\n",
      "\n",
      "[10530 rows x 4 columns]\n"
     ]
    }
   ],
   "source": [
    "print (final_df)"
   ]
  },
  {
   "cell_type": "code",
   "execution_count": 133,
   "metadata": {},
   "outputs": [],
   "source": [
    "final_df.to_csv('modelData_1.csv', index=False)"
   ]
  },
  {
   "cell_type": "markdown",
   "metadata": {},
   "source": [
    "<strong>Notes:</strong>\n",
    "To remove angles from dataframe and save to csv for model input run the following cell"
   ]
  },
  {
   "cell_type": "code",
   "execution_count": 130,
   "metadata": {},
   "outputs": [],
   "source": [
    "#without angle\n",
    "df = final_df.drop(columns=['angle'])\n",
    "df.to_csv('modelData_1.csv', index=False)"
   ]
  },
  {
   "cell_type": "code",
   "execution_count": 6,
   "metadata": {},
   "outputs": [
    {
     "name": "stdout",
     "output_type": "stream",
     "text": [
      "         index            game_str_play_id                game_str  play_id  \\\n",
      "0            0    1883_001_Vis1AB_Home1A_2  1883_001_Vis1AB_Home1A        2   \n",
      "1            1    1883_001_Vis1AB_Home1A_2  1883_001_Vis1AB_Home1A        2   \n",
      "2            2    1883_001_Vis1AB_Home1A_2  1883_001_Vis1AB_Home1A        2   \n",
      "3            3    1883_001_Vis1AB_Home1A_2  1883_001_Vis1AB_Home1A        2   \n",
      "4            4    1883_001_Vis1AB_Home1A_2  1883_001_Vis1AB_Home1A        2   \n",
      "...        ...                         ...                     ...      ...   \n",
      "748230  865828  1884_143_Vis4BE_Home4A_288  1884_143_Vis4BE_Home4A      288   \n",
      "748231  865829  1884_143_Vis4BE_Home4A_288  1884_143_Vis4BE_Home4A      288   \n",
      "748232  865830  1884_143_Vis4BE_Home4A_288  1884_143_Vis4BE_Home4A      288   \n",
      "748233  865831  1884_143_Vis4BE_Home4A_288  1884_143_Vis4BE_Home4A      288   \n",
      "748234  865832  1884_143_Vis4BE_Home4A_288  1884_143_Vis4BE_Home4A      288   \n",
      "\n",
      "        timestamp  event_code                           ball_pos  \\\n",
      "0           67373           1      (-0.956334, 55.6236, 5.09457)   \n",
      "1           67423        1000        (-0.73377, 48.891, 5.01744)   \n",
      "2           67473        1000      (-0.530736, 42.2343, 4.86402)   \n",
      "3           67523        1000      (-0.347229, 35.6541, 4.63431)   \n",
      "4           67573        1000     (-0.1832505, 29.1498, 4.32828)   \n",
      "...           ...         ...                                ...   \n",
      "748230   10088650        5000   (-0.1461255, 21.19704, 2.972616)   \n",
      "748231   10088700        5000     (-0.1120776, 15.2247, 2.22204)   \n",
      "748232   10088750        5000    (-0.0677004, 9.32463, 1.396905)   \n",
      "748233   10088800        5000    (-0.0129942, 3.49686, 0.497208)   \n",
      "748234   10088850        5000  (0.0520407, -2.258586, -0.477042)   \n",
      "\n",
      "                                         player_positions  player_position  \\\n",
      "0       [{7: (-129.6927, 257.6286)}, {8: (-5.5209, 308...                1   \n",
      "1       [{7: (-129.672, 257.6757)}, {8: (-5.5326, 308....             1000   \n",
      "2       [{7: (-129.6516, 257.7225)}, {8: (-5.5449, 308...             1000   \n",
      "3       [{7: (-129.6309, 257.7693)}, {8: (-5.5575, 308...             1000   \n",
      "4       [{7: (-129.6105, 257.8164)}, {8: (-5.5707, 308...             1000   \n",
      "...                                                   ...              ...   \n",
      "748230  [{7: (-116.9289, 261.9531)}, {8: (-15.9993, 29...                0   \n",
      "748231  [{7: (-116.8758, 261.9132)}, {8: (-16.0356, 29...                0   \n",
      "748232  [{7: (-116.823, 261.8733)}, {8: (-16.0716, 299...                0   \n",
      "748233  [{7: (-116.7702, 261.8337)}, {8: (-16.1079, 29...                0   \n",
      "748234  [{7: (-116.7174, 261.7941)}, {8: (-16.1442, 29...                0   \n",
      "\n",
      "        ball_dist_from_o                                  player_pos_from_o  \\\n",
      "0              55.864605  [{7: 288.43143374335955}, {8: 308.692973936515...   \n",
      "1              49.153260  [{7: 288.4641987396183}, {8: 308.6850847109558...   \n",
      "2              42.516779  [{7: 288.49683601178367}, {8: 308.677206717259...   \n",
      "3              35.955698  [{7: 288.52934384096875}, {8: 308.668734723716...   \n",
      "4              29.469958  [{7: 288.5622598664108}, {8: 308.6602740854255...   \n",
      "...                  ...                                                ...   \n",
      "748230         21.404960  [{7: 286.86546368432016}, {8: 300.334057572979...   \n",
      "748231         15.386407  [{7: 286.80738651554987}, {8: 300.344381541190...   \n",
      "748232          9.428926  [{7: 286.7494351901848}, {8: 300.3546937238038...   \n",
      "748233          3.532055  [{7: 286.6917614158628}, {8: 300.3647266219187...   \n",
      "748234          2.309002  [{7: 286.6340912340505}, {8: 300.3744642237918...   \n",
      "\n",
      "                                    player_ball_distances      catch_position  \n",
      "0       [{7: 239.5414011092255}, {8: 253.0631671189097...  {7: 0, 8: 0, 9: 0}  \n",
      "1       [{7: 245.39211488101347}, {8: 259.791081420768...  {7: 0, 8: 0, 9: 0}  \n",
      "2       [{7: 251.21482740058738}, {8: 266.443151938249...  {7: 0, 8: 0, 9: 0}  \n",
      "3       [{7: 257.0050153313206}, {8: 273.0182558442375...  {7: 0, 8: 0, 9: 0}  \n",
      "4       [{7: 262.76028212127807}, {8: 279.517740023622...  {7: 0, 8: 0, 9: 0}  \n",
      "...                                                   ...                 ...  \n",
      "748230  [{7: 267.6032088322651}, {8: 279.1785807112080...  {7: 0, 8: 0, 9: 0}  \n",
      "748231  [{7: 272.95424795140275}, {8: 285.162643828175...  {7: 0, 8: 0, 9: 0}  \n",
      "748232  [{7: 278.271000655896}, {8: 291.07811705629604...  {7: 0, 8: 0, 9: 0}  \n",
      "748233  [{7: 283.5516871499875}, {8: 296.925118393705}...  {7: 0, 8: 0, 9: 0}  \n",
      "748234  [{7: 288.794357193272}, {8: 302.7040508383115}...  {7: 0, 8: 0, 9: 0}  \n",
      "\n",
      "[748235 rows x 13 columns]\n"
     ]
    }
   ],
   "source": [
    "print(df)"
   ]
  }
 ],
 "metadata": {
  "kernelspec": {
   "display_name": "py310",
   "language": "python",
   "name": "python3"
  },
  "language_info": {
   "codemirror_mode": {
    "name": "ipython",
    "version": 3
   },
   "file_extension": ".py",
   "mimetype": "text/x-python",
   "name": "python",
   "nbconvert_exporter": "python",
   "pygments_lexer": "ipython3",
   "version": "3.11.4"
  }
 },
 "nbformat": 4,
 "nbformat_minor": 2
}
