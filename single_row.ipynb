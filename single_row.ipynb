{
 "cells": [
  {
   "cell_type": "markdown",
   "metadata": {},
   "source": [
    "Import Libraries"
   ]
  },
  {
   "cell_type": "code",
   "execution_count": 2,
   "metadata": {},
   "outputs": [],
   "source": [
    "import pandas as pd\n",
    "import math\n"
   ]
  },
  {
   "cell_type": "markdown",
   "metadata": {},
   "source": [
    "Import csv"
   ]
  },
  {
   "cell_type": "code",
   "execution_count": 4,
   "metadata": {},
   "outputs": [],
   "source": [
    "df = pd.read_csv('modelinput.csv')"
   ]
  },
  {
   "cell_type": "markdown",
   "metadata": {},
   "source": [
    "Helper Function to calculate distances"
   ]
  },
  {
   "cell_type": "code",
   "execution_count": 5,
   "metadata": {},
   "outputs": [],
   "source": [
    "def calculate_distance(x1, y1, x2, y2):\n",
    "\n",
    "    distance = math.sqrt((x2 - x1)**2 + (y2 - y1)**2)\n",
    "    return distance"
   ]
  },
  {
   "cell_type": "markdown",
   "metadata": {},
   "source": [
    "Create New Data Frame and fill in rows"
   ]
  },
  {
   "cell_type": "code",
   "execution_count": 17,
   "metadata": {},
   "outputs": [],
   "source": [
    "# Initialize variables and DataFrames\n",
    "final_df = pd.DataFrame()\n",
    "new_row1 = {}\n",
    "new_row2 = {}\n",
    "new_row3 = {}\n",
    "start_time = 0\n",
    "seen_plays = set()  # Use a set to track seen play_ids\n",
    "begun = False\n",
    "\n",
    "# Iterate through rows in df\n",
    "for index, row in df.iterrows():\n",
    "    play_id = row['play_id']\n",
    "    \n",
    "    \n",
    "    if play_id not in seen_plays:\n",
    "        if not begun:\n",
    "            if row['event_code'] == 4:\n",
    "                begun = True\n",
    "                start_time = row['timestamp']\n",
    "                starting_places = eval(row['player_positions'])\n",
    "                \n",
    "        elif row['event_code'] != 4000:\n",
    "\n",
    "            if row['event_code'] == 2:\n",
    "\n",
    "                # Calculate distances to starting positions\n",
    "                ball_pos = eval(row['ball_pos'])\n",
    "                ball_x, ball_y = ball_pos[0], ball_pos[1]\n",
    "                \n",
    "                distance_1 = calculate_distance(ball_x, ball_y, starting_places[0][7][0], starting_places[0][7][1])\n",
    "                distance_2 = calculate_distance(ball_x, ball_y, starting_places[1][8][0], starting_places[1][8][1])\n",
    "                distance_3 = calculate_distance(ball_x, ball_y, starting_places[2][9][0], starting_places[2][9][1])\n",
    "\n",
    "                # Populate new_row dictionaries\n",
    "                new_row1 = {'distance': distance_1, 'time': row['timestamp'] - start_time, 'catch': eval(row['catch_position']).get(7, 0)}\n",
    "                new_row2 = {'distance': distance_2, 'time': row['timestamp'] - start_time, 'catch': eval(row['catch_position']).get(8, 0)}\n",
    "                new_row3 = {'distance': distance_3, 'time': row['timestamp'] - start_time, 'catch': eval(row['catch_position']).get(9, 0)}\n",
    "\n",
    "                # Convert dictionaries to DataFrames\n",
    "                df_new_row_1 = pd.DataFrame(new_row1, index=[0])\n",
    "                df_new_row_2 = pd.DataFrame(new_row2, index=[0])\n",
    "                df_new_row_3 = pd.DataFrame(new_row3, index=[0])\n",
    "\n",
    "                # Concatenate DataFrames to final_df\n",
    "                final_df = pd.concat([final_df, df_new_row_1, df_new_row_2, df_new_row_3], ignore_index=True)\n",
    "\n",
    "                # Reset new_row dictionaries\n",
    "                new_row1 = {}\n",
    "                new_row2 = {}\n",
    "                new_row3 = {}\n",
    "\n",
    "                seen_plays.add(play_id)\n",
    "                begun = False\n",
    "            \n",
    "            elif row['event_code'] != 4000:\n",
    "\n",
    "                # Calculate distances to starting positions\n",
    "\n",
    "                ball_pos = eval(row['ball_pos'])\n",
    "\n",
    "                if ball_pos == 0:\n",
    "                    ball_pos = (0,0,0)\n",
    "                \n",
    "                ball_x, ball_y = ball_pos[0], ball_pos[1]\n",
    "                \n",
    "                distance_1 = calculate_distance(ball_x, ball_y, starting_places[0][7][0], starting_places[0][7][1])\n",
    "                distance_2 = calculate_distance(ball_x, ball_y, starting_places[1][8][0], starting_places[1][8][1])\n",
    "                distance_3 = calculate_distance(ball_x, ball_y, starting_places[2][9][0], starting_places[2][9][1])\n",
    "\n",
    "                # Fill in new_row dictionaries\n",
    "                new_row1 = {'distance': distance_1, 'time': row['timestamp'] - start_time, 'catch': 0}\n",
    "                new_row2 = {'distance': distance_2, 'time': row['timestamp'] - start_time, 'catch': 0}\n",
    "                new_row3 = {'distance': distance_3, 'time': row['timestamp'] - start_time, 'catch': 0}\n",
    "\n",
    "                # Convert dictionaries to DataFrames\n",
    "                df_new_row_1 = pd.DataFrame(new_row1, index=[0])\n",
    "                df_new_row_2 = pd.DataFrame(new_row2, index=[0])\n",
    "                df_new_row_3 = pd.DataFrame(new_row3, index=[0])\n",
    "\n",
    "                # Concatenate DataFrames to final_df\n",
    "                final_df = pd.concat([final_df, df_new_row_1, df_new_row_2, df_new_row_3], ignore_index=True)\n",
    "\n",
    "                # Reset new_row dictionaries\n",
    "                new_row1 = {}\n",
    "                new_row2 = {}\n",
    "                new_row3 = {}\n",
    "                seen_plays.add(play_id)\n",
    "                begun = False\n"
   ]
  },
  {
   "cell_type": "markdown",
   "metadata": {},
   "source": [
    "Export as csv"
   ]
  },
  {
   "cell_type": "code",
   "execution_count": 16,
   "metadata": {},
   "outputs": [
    {
     "name": "stdout",
     "output_type": "stream",
     "text": [
      "        distance  time  catch\n",
      "0     133.321061  5500      0\n",
      "1      23.774403  5500      1\n",
      "2     163.004893  5500      0\n",
      "3      59.623193  5150      1\n",
      "4     162.019367  5150      0\n",
      "...          ...   ...    ...\n",
      "1039   53.267959  4250      1\n",
      "1040  201.129496  4250      0\n",
      "1041  157.487968  4600      0\n",
      "1042   76.108510  4600      1\n",
      "1043   93.392900  4600      0\n",
      "\n",
      "[1044 rows x 3 columns]\n"
     ]
    }
   ],
   "source": [
    "print (final_df)"
   ]
  },
  {
   "cell_type": "code",
   "execution_count": 13,
   "metadata": {},
   "outputs": [],
   "source": [
    "final_df.to_csv('modelData_1.csv', index=False)"
   ]
  }
 ],
 "metadata": {
  "kernelspec": {
   "display_name": "py310",
   "language": "python",
   "name": "python3"
  },
  "language_info": {
   "codemirror_mode": {
    "name": "ipython",
    "version": 3
   },
   "file_extension": ".py",
   "mimetype": "text/x-python",
   "name": "python",
   "nbconvert_exporter": "python",
   "pygments_lexer": "ipython3",
   "version": "3.10.14"
  }
 },
 "nbformat": 4,
 "nbformat_minor": 2
}
